{
 "cells": [
  {
   "cell_type": "markdown",
   "metadata": {},
   "source": [
    "https://medium.com/@alice.yang_10652/convert-powerpoint-pptx-or-ppt-to-pdf-with-python-542f7cde2d49"
   ]
  },
  {
   "cell_type": "code",
   "execution_count": 2,
   "metadata": {},
   "outputs": [],
   "source": [
    "from spire.presentation import *\n",
    "from spire.presentation.common import *"
   ]
  },
  {
   "cell_type": "code",
   "execution_count": 3,
   "metadata": {},
   "outputs": [],
   "source": [
    "# Create a Presentation object\n",
    "presentation = Presentation()\n",
    "# Load a PowerPoint presentation in PPTX format\n",
    "presentation.LoadFromFile(\"test_ppt.pptx\")\n",
    "# Or load a PowerPoint presentation in PPT format\n",
    "#presentation.LoadFromFile(\"Sample.ppt\")"
   ]
  },
  {
   "cell_type": "code",
   "execution_count": 4,
   "metadata": {},
   "outputs": [],
   "source": [
    "# Convert the presentation to PDF format\n",
    "presentation.SaveToFile(\"PresentationToPDF.pdf\", FileFormat.PDF)\n",
    "presentation.Dispose()"
   ]
  },
  {
   "cell_type": "code",
   "execution_count": null,
   "metadata": {},
   "outputs": [],
   "source": []
  }
 ],
 "metadata": {
  "kernelspec": {
   "display_name": "myenv_310",
   "language": "python",
   "name": "python3"
  },
  "language_info": {
   "codemirror_mode": {
    "name": "ipython",
    "version": 3
   },
   "file_extension": ".py",
   "mimetype": "text/x-python",
   "name": "python",
   "nbconvert_exporter": "python",
   "pygments_lexer": "ipython3",
   "version": "3.10.11"
  }
 },
 "nbformat": 4,
 "nbformat_minor": 2
}
