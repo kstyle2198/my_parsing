{
 "cells": [
  {
   "cell_type": "code",
   "execution_count": 2,
   "metadata": {},
   "outputs": [],
   "source": [
    "import cv2\n",
    "from pprint import pprint"
   ]
  },
  {
   "cell_type": "code",
   "execution_count": 3,
   "metadata": {},
   "outputs": [],
   "source": [
    "path = \"D:\\AA_develop\\parsing\\images\\gaejung1\\gaejung_0.png\""
   ]
  },
  {
   "cell_type": "code",
   "execution_count": 11,
   "metadata": {},
   "outputs": [],
   "source": [
    "image = cv2.imread(path)\n",
    "height = int(image.shape[0]*1)\n",
    "gray = cv2.cvtColor(image, cv2.COLOR_BGR2GRAY)\n",
    "blur = cv2.GaussianBlur(gray, (9,9), 0)\n",
    "thresh = cv2.adaptiveThreshold(blur,255,cv2.ADAPTIVE_THRESH_GAUSSIAN_C, cv2.THRESH_BINARY_INV,11,30)\n",
    "# Dilate to combine adjacent text contours\n",
    "kernel = cv2.getStructuringElement(cv2.MORPH_RECT, (9,9))\n",
    "dilate = cv2.dilate(thresh, kernel, iterations=4)"
   ]
  },
  {
   "cell_type": "code",
   "execution_count": 5,
   "metadata": {},
   "outputs": [],
   "source": [
    "# cv2.imshow('thresh', thresh)\n",
    "# cv2.imshow('image', image)\n",
    "# cv2.imshow('dilate', dilate)\n",
    "# cv2.waitKey()"
   ]
  },
  {
   "cell_type": "code",
   "execution_count": 6,
   "metadata": {},
   "outputs": [
    {
     "name": "stdout",
     "output_type": "stream",
     "text": [
      "2\n",
      "68\n"
     ]
    }
   ],
   "source": [
    "# Find contours, highlight text areas, and extract ROIs (외곽선 검출)\n",
    "cnts  = cv2.findContours(image=dilate, mode=cv2.RETR_CCOMP, method=cv2.CHAIN_APPROX_SIMPLE)  # contours, hierarchy \n",
    "''' \n",
    "- RETR_EXTERNAL: 계층정보 x 바깥 외곽선만 검출 \n",
    "- RETR_LIST: 계층정보 x, 모든 외곽선 검출 (순서는 랜덤)\n",
    "- RETR_CCOMP: 계층 구조를 만들긴 하지만 2층까지만 표현(2층이 넘어가면 1층으로 부여)\n",
    "- RETR_TREE: 계층구조를 만듬\n",
    "'''\n",
    "print(len(cnts))\n",
    "cnts = cnts[0] if len(cnts) == 2 else cnts[1]\n",
    "print(len(cnts))"
   ]
  },
  {
   "cell_type": "code",
   "execution_count": 7,
   "metadata": {},
   "outputs": [],
   "source": [
    "## 찾은 윤곽선을 이미지에 그립니다.\n",
    "# cv2.drawContours(image, cnts, -1, (0, 255, 0), 2)\n",
    "# cv2.imshow('Contours', image)\n",
    "# cv2.waitKey(0)\n",
    "# cv2.destroyAllWindows()"
   ]
  },
  {
   "cell_type": "code",
   "execution_count": null,
   "metadata": {},
   "outputs": [],
   "source": []
  },
  {
   "cell_type": "code",
   "execution_count": null,
   "metadata": {},
   "outputs": [],
   "source": []
  },
  {
   "cell_type": "code",
   "execution_count": 12,
   "metadata": {},
   "outputs": [],
   "source": [
    "ROI_number = 0\n",
    "for c in cnts:\n",
    "    area = cv2.contourArea(c)\n",
    "    if area > 10000:\n",
    "        x,y,w,h = cv2.boundingRect(c)\n",
    "        if w > h and h < height * 0.3:\n",
    "            cv2.rectangle(image, (x, y), (x + w, y + h), (36,255,12), 3)\n",
    "            ROI = image[y:y+h, x:x+w]\n",
    "            cv2.imwrite('./test_area_img/ROI_{}.jpg'.format(ROI_number), ROI, [cv2.IMWRITE_JPEG_QUALITY, 100])\n",
    "            ROI_number += 1"
   ]
  },
  {
   "cell_type": "code",
   "execution_count": 9,
   "metadata": {},
   "outputs": [
    {
     "data": {
      "text/plain": [
       "-1"
      ]
     },
     "execution_count": 9,
     "metadata": {},
     "output_type": "execute_result"
    }
   ],
   "source": [
    "cv2.imshow('image', image)\n",
    "cv2.waitKey()"
   ]
  },
  {
   "cell_type": "code",
   "execution_count": null,
   "metadata": {},
   "outputs": [],
   "source": []
  }
 ],
 "metadata": {
  "kernelspec": {
   "display_name": "myenv_310",
   "language": "python",
   "name": "python3"
  },
  "language_info": {
   "codemirror_mode": {
    "name": "ipython",
    "version": 3
   },
   "file_extension": ".py",
   "mimetype": "text/x-python",
   "name": "python",
   "nbconvert_exporter": "python",
   "pygments_lexer": "ipython3",
   "version": "3.10.11"
  }
 },
 "nbformat": 4,
 "nbformat_minor": 2
}
