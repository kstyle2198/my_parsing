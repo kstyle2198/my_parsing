{
 "cells": [
  {
   "cell_type": "code",
   "execution_count": 2,
   "metadata": {},
   "outputs": [],
   "source": [
    "from spire.pdf.common import *\n",
    "from spire.pdf import *"
   ]
  },
  {
   "cell_type": "code",
   "execution_count": 3,
   "metadata": {},
   "outputs": [
    {
     "data": {
      "text/plain": [
       "<spire.pdf.PdfDocument.PdfDocument at 0x22e0bc22da0>"
      ]
     },
     "execution_count": 3,
     "metadata": {},
     "output_type": "execute_result"
    }
   ],
   "source": [
    "# Load a PDF document\n",
    "origin_doc = PdfDocument(\"D:/AA_develop/parsing/2024/POS/FWG.pdf\")\n",
    "origin_doc"
   ]
  },
  {
   "cell_type": "code",
   "execution_count": 4,
   "metadata": {},
   "outputs": [],
   "source": [
    "# Create a new PDF document\n",
    "new_doc = PdfDocument()"
   ]
  },
  {
   "cell_type": "code",
   "execution_count": 5,
   "metadata": {},
   "outputs": [],
   "source": [
    "# Iterate through each page of the loaded document\n",
    "for i in range(origin_doc.Pages.Count):\n",
    "    # Get the current page\n",
    "    page = origin_doc.Pages[i]\n",
    "\n",
    "    # Add a new page with A3 size and no margins to the new PDF document\n",
    "    newPage = new_doc.Pages.Add(PdfPageSize.A3(), PdfMargins(0))\n",
    "\n",
    "    # Create a PdfTextLayout object\n",
    "    layout = PdfTextLayout()\n",
    "    # Set content layout type as one page to automatically scale content according to page size\n",
    "    layout.Layout = PdfLayoutType.OnePage\n",
    "\n",
    "    # Draw the page content of the current page on the new page\n",
    "    page.CreateTemplate().Draw(newPage, PointF.Empty(), layout)"
   ]
  },
  {
   "cell_type": "code",
   "execution_count": 6,
   "metadata": {},
   "outputs": [],
   "source": [
    "# Save the new PDF document\n",
    "new_doc.SaveToFile(\"A3.pdf\")\n",
    "origin_doc.Close()\n",
    "new_doc.Close()"
   ]
  },
  {
   "cell_type": "code",
   "execution_count": null,
   "metadata": {},
   "outputs": [],
   "source": []
  }
 ],
 "metadata": {
  "kernelspec": {
   "display_name": "myenv_310",
   "language": "python",
   "name": "python3"
  },
  "language_info": {
   "codemirror_mode": {
    "name": "ipython",
    "version": 3
   },
   "file_extension": ".py",
   "mimetype": "text/x-python",
   "name": "python",
   "nbconvert_exporter": "python",
   "pygments_lexer": "ipython3",
   "version": "3.10.11"
  }
 },
 "nbformat": 4,
 "nbformat_minor": 2
}
