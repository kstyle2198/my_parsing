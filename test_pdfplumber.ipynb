{
 "cells": [
  {
   "cell_type": "code",
   "execution_count": 1,
   "metadata": {},
   "outputs": [],
   "source": [
    "import pdfplumber\n",
    "from typing import Iterator\n",
    "from langchain_core.documents import Document\n",
    "from tqdm import tqdm\n",
    "from pprint import pprint\n",
    "import re\n",
    "import os"
   ]
  },
  {
   "cell_type": "markdown",
   "metadata": {},
   "source": [
    "## 파일 읽기"
   ]
  },
  {
   "cell_type": "code",
   "execution_count": 2,
   "metadata": {},
   "outputs": [],
   "source": [
    "def has_subfolders(directory) -> bool:\n",
    "    try:\n",
    "        items = os.listdir(directory)\n",
    "        for item in items:\n",
    "            if os.path.isdir(os.path.join(directory, item)):\n",
    "                return True\n",
    "        return False\n",
    "    except Exception as e:\n",
    "        print(f\"An error occurred: {e}\")\n",
    "        return False"
   ]
  },
  {
   "cell_type": "code",
   "execution_count": 3,
   "metadata": {},
   "outputs": [],
   "source": [
    "total_results =[]\n",
    "def get_folders_files(path:str) -> list:   # 폴더 트리를 리커시브하게 읽어서 전체 PDF 파일 full 경로 수집 \n",
    "    global total_results\n",
    "    \n",
    "    all_items = os.listdir(path)\n",
    "    files = [f for f in all_items if os.path.isfile(os.path.join(path, f))]\n",
    "    results = [os.path.join(path, file) for file in files]\n",
    "    total_results.extend(results)\n",
    "\n",
    "    dirs = [f for f in all_items if os.path.isdir(os.path.join(path, f))]\n",
    "    if dirs:\n",
    "        dirs = [path+\"\\\\\" + lv2_dir for lv2_dir in dirs]\n",
    "        for dir in dirs:\n",
    "            get_folders_files(dir)\n",
    "    return total_results"
   ]
  },
  {
   "cell_type": "code",
   "execution_count": 4,
   "metadata": {},
   "outputs": [
    {
     "data": {
      "text/plain": [
       "['.\\\\2024\\\\Manual\\\\Guidance for Autonomous Ships_2023.pdf',\n",
       " '.\\\\2024\\\\POS\\\\Air Compressor.pdf',\n",
       " '.\\\\2024\\\\POS\\\\FWG.pdf',\n",
       " '.\\\\2024\\\\POS\\\\path_to_save_image_2.pdf',\n",
       " '.\\\\2024\\\\POS\\\\temp\\\\Observations on Building RAG System for Technical Documents.pdf',\n",
       " '.\\\\2024\\\\Rule\\\\PART 4_2023_hull_equipment.pdf']"
      ]
     },
     "execution_count": 4,
     "metadata": {},
     "output_type": "execute_result"
    }
   ],
   "source": [
    "lv1_dir = \".\\\\2024\"\n",
    "get_folders_files(lv1_dir)"
   ]
  },
  {
   "cell_type": "code",
   "execution_count": 5,
   "metadata": {},
   "outputs": [],
   "source": [
    "# current_directory = os.getcwd()\n",
    "# print(\"Current Directory:\", current_directory)\n",
    "# folder_name = \"2024\"\n",
    "# folder_path = os.path.join(current_directory, folder_name)\n",
    "# print(\"Folder Path:\", folder_path)\n",
    "# all_items = os.listdir(folder_path)  # 하위 폴더까지 읽기\n",
    "# print(all_items)\n",
    "# files = [f for f in all_items if os.path.isfile(os.path.join(folder_path, f))]  # 폴더 제외 파일만 읽기\n",
    "# print(files)  "
   ]
  },
  {
   "cell_type": "markdown",
   "metadata": {},
   "source": [
    "# Basic"
   ]
  },
  {
   "cell_type": "code",
   "execution_count": 5,
   "metadata": {},
   "outputs": [
    {
     "name": "stdout",
     "output_type": "stream",
     "text": [
      "Current Directory: d:\\AA_develop\\parsing\n",
      "Folder Path: d:\\AA_develop\\parsing\\files\n"
     ]
    },
    {
     "ename": "FileNotFoundError",
     "evalue": "[WinError 3] The system cannot find the path specified: 'd:\\\\AA_develop\\\\parsing\\\\files'",
     "output_type": "error",
     "traceback": [
      "\u001b[1;31m---------------------------------------------------------------------------\u001b[0m",
      "\u001b[1;31mFileNotFoundError\u001b[0m                         Traceback (most recent call last)",
      "Cell \u001b[1;32mIn[5], line 7\u001b[0m\n\u001b[0;32m      5\u001b[0m folder_path \u001b[38;5;241m=\u001b[39m os\u001b[38;5;241m.\u001b[39mpath\u001b[38;5;241m.\u001b[39mjoin(current_directory, folder_name)\n\u001b[0;32m      6\u001b[0m \u001b[38;5;28mprint\u001b[39m(\u001b[38;5;124m\"\u001b[39m\u001b[38;5;124mFolder Path:\u001b[39m\u001b[38;5;124m\"\u001b[39m, folder_path)\n\u001b[1;32m----> 7\u001b[0m all_items \u001b[38;5;241m=\u001b[39m \u001b[43mos\u001b[49m\u001b[38;5;241;43m.\u001b[39;49m\u001b[43mlistdir\u001b[49m\u001b[43m(\u001b[49m\u001b[43mfolder_path\u001b[49m\u001b[43m)\u001b[49m  \u001b[38;5;66;03m# 하위 폴더까지 읽기\u001b[39;00m\n\u001b[0;32m      8\u001b[0m \u001b[38;5;28mprint\u001b[39m(all_items)\n\u001b[0;32m      9\u001b[0m files \u001b[38;5;241m=\u001b[39m [f \u001b[38;5;28;01mfor\u001b[39;00m f \u001b[38;5;129;01min\u001b[39;00m all_items \u001b[38;5;28;01mif\u001b[39;00m os\u001b[38;5;241m.\u001b[39mpath\u001b[38;5;241m.\u001b[39misfile(os\u001b[38;5;241m.\u001b[39mpath\u001b[38;5;241m.\u001b[39mjoin(folder_path, f))]  \u001b[38;5;66;03m# 폴더 제외 파일만 읽기\u001b[39;00m\n",
      "\u001b[1;31mFileNotFoundError\u001b[0m: [WinError 3] The system cannot find the path specified: 'd:\\\\AA_develop\\\\parsing\\\\files'"
     ]
    }
   ],
   "source": [
    "# 샘플 검토 대상 문서 지정 ---> full_path\n",
    "# current_directory = os.getcwd()\n",
    "# print(\"Current Directory:\", current_directory)\n",
    "# folder_name = \"files\"\n",
    "# folder_path = os.path.join(current_directory, folder_name)\n",
    "# print(\"Folder Path:\", folder_path)\n",
    "# # all_items = os.listdir(folder_path)  # 하위 폴더까지 읽기\n",
    "# # print(all_items)\n",
    "# # files = [f for f in all_items if os.path.isfile(os.path.join(folder_path, f))]  # 폴더 제외 파일만 읽기\n",
    "# # print(files)  \n",
    "# # target_file = files[0]\n",
    "# # print(target_file)\n",
    "# folder_path = os.path.join(current_directory, folder_name)\n",
    "# full_path = os.path.join(folder_path, target_file)\n",
    "# print(full_path)"
   ]
  },
  {
   "cell_type": "code",
   "execution_count": 7,
   "metadata": {},
   "outputs": [],
   "source": [
    "def create_folder_if_not_exists(folder_path:str):  # 이미지 저장 폴더 생성\n",
    "    if not os.path.exists(folder_path):\n",
    "        os.makedirs(folder_path)\n",
    "        print(f\"폴더가 생성되었습니다: {folder_path}\")\n",
    "    else:\n",
    "        print(f\"폴더가 이미 존재합니다: {folder_path}\")\n",
    "\n",
    "def save_pdf_to_img(path:str, file_name:str, page_num:int):  # pdf를 png 이미지 파일로 저장\n",
    "    with pdfplumber.open(path) as pdf:\n",
    "        # print(len(pdf.pages))\n",
    "        page = pdf.pages[page_num]\n",
    "        # print(page)\n",
    "        im = page.to_image(resolution=150)\n",
    "        # im.draw_rects(first_page.extract_words())  # 글자에 Red Box 그리기\n",
    "        save_path = f\"{os.getcwd()}/images/{file_name}/{file_name}_{page_num}.png\"\n",
    "        # print(f\"save_path: {save_path}\")\n",
    "        im.save(save_path, format=\"PNG\", )\n",
    "        # im.show()"
   ]
  },
  {
   "cell_type": "code",
   "execution_count": 8,
   "metadata": {},
   "outputs": [],
   "source": [
    "def text_parser(path:str, page_num:int, crop:bool):   # 텍스트 파싱, A4상단 표준 크롭핑 적용 선택 가능\n",
    "    with pdfplumber.open(path) as pdf:\n",
    "        page = pdf.pages[page_num]\n",
    "        if crop:\n",
    "            bounding_box = (3, 70, 590, 770)   #default : (0, 0, 595, 841)\n",
    "            page = page.crop(bounding_box, relative=False, strict=True)\n",
    "        else: pass\n",
    "        result = page.extract_text(layout=False)\n",
    "    return result"
   ]
  },
  {
   "cell_type": "code",
   "execution_count": 9,
   "metadata": {},
   "outputs": [
    {
     "data": {
      "text/plain": [
       "'CONTENTS\\nCHAPTER 1 GENERAL···········································································································1\\nSection 1 General············································································································1\\nSection 2 Operation Plan·······························································································4\\nSection 3 Cyber security································································································5\\nCHAPTER 2 AUTONOMOUS SYSTEMS AND AUTONOMOUS SHIPS·························7\\nSection 1 Configuration and Function of Autonomous Systems···························7\\nSection 2 Requirements for Autonomous Systems and Autonomous Ships···14\\nSection 3 Approval procedure of autonomous ships·············································19\\nCHAPTER 3 RISK-BASED APPROVAL ···········································································21\\nSection 1 General··········································································································21\\nSection 2 Considerations when approving risk-based design·····························22\\nSection 3 Measures to reduce risk···········································································25'"
      ]
     },
     "execution_count": 9,
     "metadata": {},
     "output_type": "execute_result"
    }
   ],
   "source": [
    "text_parser(total_results[0], 2, True)"
   ]
  },
  {
   "cell_type": "code",
   "execution_count": 10,
   "metadata": {},
   "outputs": [
    {
     "name": "stdout",
     "output_type": "stream",
     "text": [
      "<Page:6>\n",
      "[{'text': 'The material of insulation, gasket and/or gland packing shall be', 'x0': 77.904, 'top': 115.93999999999994, 'x1': 413.37799999999993, 'bottom': 127.93999999999994, 'groups': (), 'chars': [{'matrix': (1, 0, 0, 1, 77.904, 716.62), 'fontname': 'ArialMT', 'adv': 7.332, 'upright': True, 'x0': 77.904, 'y0': 714.1, 'x1': 85.23599999999999, 'y1': 726.1, 'width': 7.331999999999994, 'height': 12.0, 'size': 12.0, 'mcid': 2, 'tag': 'P', 'object_type': 'char', 'page_number': 6, 'ncs': 'DeviceGray', 'text': 'T', 'stroking_color': (0,), 'stroking_pattern': None, 'non_stroking_color': (0,), 'non_stroking_pattern': None, 'top': 115.93999999999994, 'bottom': 127.93999999999994, 'doctop': 4325.9}, {'matrix': (1, 0, 0, 1, 85.344, 716.62), 'fontname': 'ArialMT', 'adv': 6.672000000000001, 'upright': True, 'x0': 85.344, 'y0': 714.1, 'x1': 92.01599999999999, 'y1': 726.1, 'width': 6.671999999999997, 'height': 12.0, 'size': 12.0, 'mcid': 2, 'tag': 'P', 'object_type': 'char', 'page_number': 6, 'ncs': 'DeviceGray', 'text': 'h', 'stroking_color': (0,), 'stroking_pattern': None, 'non_stroking_color': (0,), 'non_stroking_pattern': None, 'top': 115.93999999999994, 'bottom': 127.93999999999994, 'doctop': 4325.9}, {'matrix': (1, 0, 0, 1, 91.94399999999999, 716.62), 'fontname': 'ArialMT', 'adv': 6.672000000000001, 'upright': True, 'x0': 91.94399999999999, 'y0': 714.1, 'x1': 98.61599999999999, 'y1': 726.1, 'width': 6.671999999999997, 'height': 12.0, 'size': 12.0, 'mcid': 2, 'tag': 'P', 'object_type': 'char', 'page_number': 6, 'ncs': 'DeviceGray', 'text': 'e', 'stroking_color': (0,), 'stroking_pattern': None, 'non_stroking_color': (0,), 'non_stroking_pattern': None, 'top': 115.93999999999994, 'bottom': 127.93999999999994, 'doctop': 4325.9}, {'matrix': (1, 0, 0, 1, 101.892, 716.62), 'fontname': 'ArialMT', 'adv': 9.995999999999999, 'upright': True, 'x0': 101.892, 'y0': 714.1, 'x1': 111.88799999999999, 'y1': 726.1, 'width': 9.995999999999995, 'height': 12.0, 'size': 12.0, 'mcid': 2, 'tag': 'P', 'object_type': 'char', 'page_number': 6, 'ncs': 'DeviceGray', 'text': 'm', 'stroking_color': (0,), 'stroking_pattern': None, 'non_stroking_color': (0,), 'non_stroking_pattern': None, 'top': 115.93999999999994, 'bottom': 127.93999999999994, 'doctop': 4325.9}, {'matrix': (1, 0, 0, 1, 111.96, 716.62), 'fontname': 'ArialMT', 'adv': 6.672000000000001, 'upright': True, 'x0': 111.96, 'y0': 714.1, 'x1': 118.63199999999999, 'y1': 726.1, 'width': 6.671999999999997, 'height': 12.0, 'size': 12.0, 'mcid': 2, 'tag': 'P', 'object_type': 'char', 'page_number': 6, 'ncs': 'DeviceGray', 'text': 'a', 'stroking_color': (0,), 'stroking_pattern': None, 'non_stroking_color': (0,), 'non_stroking_pattern': None, 'top': 115.93999999999994, 'bottom': 127.93999999999994, 'doctop': 4325.9}, {'matrix': (1, 0, 0, 1, 118.66799999999999, 716.62), 'fontname': 'ArialMT', 'adv': 3.3360000000000003, 'upright': True, 'x0': 118.66799999999999, 'y0': 714.1, 'x1': 122.00399999999999, 'y1': 726.1, 'width': 3.3359999999999985, 'height': 12.0, 'size': 12.0, 'mcid': 2, 'tag': 'P', 'object_type': 'char', 'page_number': 6, 'ncs': 'DeviceGray', 'text': 't', 'stroking_color': (0,), 'stroking_pattern': None, 'non_stroking_color': (0,), 'non_stroking_pattern': None, 'top': 115.93999999999994, 'bottom': 127.93999999999994, 'doctop': 4325.9}, {'matrix': (1, 0, 0, 1, 121.90799999999999, 716.62), 'fontname': 'ArialMT', 'adv': 6.672000000000001, 'upright': True, 'x0': 121.90799999999999, 'y0': 714.1, 'x1': 128.57999999999998, 'y1': 726.1, 'width': 6.671999999999997, 'height': 12.0, 'size': 12.0, 'mcid': 2, 'tag': 'P', 'object_type': 'char', 'page_number': 6, 'ncs': 'DeviceGray', 'text': 'e', 'stroking_color': (0,), 'stroking_pattern': None, 'non_stroking_color': (0,), 'non_stroking_pattern': None, 'top': 115.93999999999994, 'bottom': 127.93999999999994, 'doctop': 4325.9}, {'matrix': (1, 0, 0, 1, 128.61599999999999, 716.62), 'fontname': 'ArialMT', 'adv': 3.9960000000000004, 'upright': True, 'x0': 128.61599999999999, 'y0': 714.1, 'x1': 132.612, 'y1': 726.1, 'width': 3.9960000000000093, 'height': 12.0, 'size': 12.0, 'mcid': 2, 'tag': 'P', 'object_type': 'char', 'page_number': 6, 'ncs': 'DeviceGray', 'text': 'r', 'stroking_color': (0,), 'stroking_pattern': None, 'non_stroking_color': (0,), 'non_stroking_pattern': None, 'top': 115.93999999999994, 'bottom': 127.93999999999994, 'doctop': 4325.9}, {'matrix': (1, 0, 0, 1, 132.612, 716.62), 'fontname': 'ArialMT', 'adv': 2.664, 'upright': True, 'x0': 132.612, 'y0': 714.1, 'x1': 135.27599999999998, 'y1': 726.1, 'width': 2.6639999999999873, 'height': 12.0, 'size': 12.0, 'mcid': 2, 'tag': 'P', 'object_type': 'char', 'page_number': 6, 'ncs': 'DeviceGray', 'text': 'i', 'stroking_color': (0,), 'stroking_pattern': None, 'non_stroking_color': (0,), 'non_stroking_pattern': None, 'top': 115.93999999999994, 'bottom': 127.93999999999994, 'doctop': 4325.9}, {'matrix': (1, 0, 0, 1, 135.216, 716.62), 'fontname': 'ArialMT', 'adv': 6.672000000000001, 'upright': True, 'x0': 135.216, 'y0': 714.1, 'x1': 141.888, 'y1': 726.1, 'width': 6.671999999999997, 'height': 12.0, 'size': 12.0, 'mcid': 2, 'tag': 'P', 'object_type': 'char', 'page_number': 6, 'ncs': 'DeviceGray', 'text': 'a', 'stroking_color': (0,), 'stroking_pattern': None, 'non_stroking_color': (0,), 'non_stroking_pattern': None, 'top': 115.93999999999994, 'bottom': 127.93999999999994, 'doctop': 4325.9}, {'matrix': (1, 0, 0, 1, 141.924, 716.62), 'fontname': 'ArialMT', 'adv': 2.664, 'upright': True, 'x0': 141.924, 'y0': 714.1, 'x1': 144.588, 'y1': 726.1, 'width': 2.6639999999999873, 'height': 12.0, 'size': 12.0, 'mcid': 2, 'tag': 'P', 'object_type': 'char', 'page_number': 6, 'ncs': 'DeviceGray', 'text': 'l', 'stroking_color': (0,), 'stroking_pattern': None, 'non_stroking_color': (0,), 'non_stroking_pattern': None, 'top': 115.93999999999994, 'bottom': 127.93999999999994, 'doctop': 4325.9}, {'matrix': (1, 0, 0, 1, 147.924, 716.62), 'fontname': 'ArialMT', 'adv': 6.672000000000001, 'upright': True, 'x0': 147.924, 'y0': 714.1, 'x1': 154.596, 'y1': 726.1, 'width': 6.671999999999997, 'height': 12.0, 'size': 12.0, 'mcid': 2, 'tag': 'P', 'object_type': 'char', 'page_number': 6, 'ncs': 'DeviceGray', 'text': 'o', 'stroking_color': (0,), 'stroking_pattern': None, 'non_stroking_color': (0,), 'non_stroking_pattern': None, 'top': 115.93999999999994, 'bottom': 127.93999999999994, 'doctop': 4325.9}, {'matrix': (1, 0, 0, 1, 154.524, 716.62), 'fontname': 'ArialMT', 'adv': 3.3360000000000003, 'upright': True, 'x0': 154.524, 'y0': 714.1, 'x1': 157.86, 'y1': 726.1, 'width': 3.3360000000000127, 'height': 12.0, 'size': 12.0, 'mcid': 2, 'tag': 'P', 'object_type': 'char', 'page_number': 6, 'ncs': 'DeviceGray', 'text': 'f', 'stroking_color': (0,), 'stroking_pattern': None, 'non_stroking_color': (0,), 'non_stroking_pattern': None, 'top': 115.93999999999994, 'bottom': 127.93999999999994, 'doctop': 4325.9}, {'matrix': (1, 0, 0, 1, 161.42, 716.62), 'fontname': 'ArialMT', 'adv': 2.664, 'upright': True, 'x0': 161.42, 'y0': 714.1, 'x1': 164.08399999999997, 'y1': 726.1, 'width': 2.6639999999999873, 'height': 12.0, 'size': 12.0, 'mcid': 2, 'tag': 'P', 'object_type': 'char', 'page_number': 6, 'ncs': 'DeviceGray', 'text': 'i', 'stroking_color': (0,), 'stroking_pattern': None, 'non_stroking_color': (0,), 'non_stroking_pattern': None, 'top': 115.93999999999994, 'bottom': 127.93999999999994, 'doctop': 4325.9}, {'matrix': (1, 0, 0, 1, 164.08399999999997, 716.62), 'fontname': 'ArialMT', 'adv': 6.672000000000001, 'upright': True, 'x0': 164.08399999999997, 'y0': 714.1, 'x1': 170.75599999999997, 'y1': 726.1, 'width': 6.671999999999997, 'height': 12.0, 'size': 12.0, 'mcid': 2, 'tag': 'P', 'object_type': 'char', 'page_number': 6, 'ncs': 'DeviceGray', 'text': 'n', 'stroking_color': (0,), 'stroking_pattern': None, 'non_stroking_color': (0,), 'non_stroking_pattern': None, 'top': 115.93999999999994, 'bottom': 127.93999999999994, 'doctop': 4325.9}, {'matrix': (1, 0, 0, 1, 170.756, 716.62), 'fontname': 'ArialMT', 'adv': 6.0, 'upright': True, 'x0': 170.756, 'y0': 714.1, 'x1': 176.756, 'y1': 726.1, 'width': 6.0, 'height': 12.0, 'size': 12.0, 'mcid': 2, 'tag': 'P', 'object_type': 'char', 'page_number': 6, 'ncs': 'DeviceGray', 'text': 's', 'stroking_color': (0,), 'stroking_pattern': None, 'non_stroking_color': (0,), 'non_stroking_pattern': None, 'top': 115.93999999999994, 'bottom': 127.93999999999994, 'doctop': 4325.9}, {'matrix': (1, 0, 0, 1, 176.66, 716.62), 'fontname': 'ArialMT', 'adv': 6.672000000000001, 'upright': True, 'x0': 176.66, 'y0': 714.1, 'x1': 183.332, 'y1': 726.1, 'width': 6.671999999999997, 'height': 12.0, 'size': 12.0, 'mcid': 2, 'tag': 'P', 'object_type': 'char', 'page_number': 6, 'ncs': 'DeviceGray', 'text': 'u', 'stroking_color': (0,), 'stroking_pattern': None, 'non_stroking_color': (0,), 'non_stroking_pattern': None, 'top': 115.93999999999994, 'bottom': 127.93999999999994, 'doctop': 4325.9}, {'matrix': (1, 0, 0, 1, 183.368, 716.62), 'fontname': 'ArialMT', 'adv': 2.664, 'upright': True, 'x0': 183.368, 'y0': 714.1, 'x1': 186.03199999999998, 'y1': 726.1, 'width': 2.6639999999999873, 'height': 12.0, 'size': 12.0, 'mcid': 2, 'tag': 'P', 'object_type': 'char', 'page_number': 6, 'ncs': 'DeviceGray', 'text': 'l', 'stroking_color': (0,), 'stroking_pattern': None, 'non_stroking_color': (0,), 'non_stroking_pattern': None, 'top': 115.93999999999994, 'bottom': 127.93999999999994, 'doctop': 4325.9}, {'matrix': (1, 0, 0, 1, 186.03199999999998, 716.62), 'fontname': 'ArialMT', 'adv': 6.672000000000001, 'upright': True, 'x0': 186.03199999999998, 'y0': 714.1, 'x1': 192.70399999999998, 'y1': 726.1, 'width': 6.671999999999997, 'height': 12.0, 'size': 12.0, 'mcid': 2, 'tag': 'P', 'object_type': 'char', 'page_number': 6, 'ncs': 'DeviceGray', 'text': 'a', 'stroking_color': (0,), 'stroking_pattern': None, 'non_stroking_color': (0,), 'non_stroking_pattern': None, 'top': 115.93999999999994, 'bottom': 127.93999999999994, 'doctop': 4325.9}, {'matrix': (1, 0, 0, 1, 192.70399999999998, 716.62), 'fontname': 'ArialMT', 'adv': 3.3360000000000003, 'upright': True, 'x0': 192.70399999999998, 'y0': 714.1, 'x1': 196.04, 'y1': 726.1, 'width': 3.3360000000000127, 'height': 12.0, 'size': 12.0, 'mcid': 2, 'tag': 'P', 'object_type': 'char', 'page_number': 6, 'ncs': 'DeviceGray', 'text': 't', 'stroking_color': (0,), 'stroking_pattern': None, 'non_stroking_color': (0,), 'non_stroking_pattern': None, 'top': 115.93999999999994, 'bottom': 127.93999999999994, 'doctop': 4325.9}, {'matrix': (1, 0, 0, 1, 196.076, 716.62), 'fontname': 'ArialMT', 'adv': 2.664, 'upright': True, 'x0': 196.076, 'y0': 714.1, 'x1': 198.73999999999998, 'y1': 726.1, 'width': 2.6639999999999873, 'height': 12.0, 'size': 12.0, 'mcid': 2, 'tag': 'P', 'object_type': 'char', 'page_number': 6, 'ncs': 'DeviceGray', 'text': 'i', 'stroking_color': (0,), 'stroking_pattern': None, 'non_stroking_color': (0,), 'non_stroking_pattern': None, 'top': 115.93999999999994, 'bottom': 127.93999999999994, 'doctop': 4325.9}, {'matrix': (1, 0, 0, 1, 198.596, 716.62), 'fontname': 'ArialMT', 'adv': 6.672000000000001, 'upright': True, 'x0': 198.596, 'y0': 714.1, 'x1': 205.268, 'y1': 726.1, 'width': 6.671999999999997, 'height': 12.0, 'size': 12.0, 'mcid': 2, 'tag': 'P', 'object_type': 'char', 'page_number': 6, 'ncs': 'DeviceGray', 'text': 'o', 'stroking_color': (0,), 'stroking_pattern': None, 'non_stroking_color': (0,), 'non_stroking_pattern': None, 'top': 115.93999999999994, 'bottom': 127.93999999999994, 'doctop': 4325.9}, {'matrix': (1, 0, 0, 1, 205.304, 716.62), 'fontname': 'ArialMT', 'adv': 6.672000000000001, 'upright': True, 'x0': 205.304, 'y0': 714.1, 'x1': 211.976, 'y1': 726.1, 'width': 6.671999999999997, 'height': 12.0, 'size': 12.0, 'mcid': 2, 'tag': 'P', 'object_type': 'char', 'page_number': 6, 'ncs': 'DeviceGray', 'text': 'n', 'stroking_color': (0,), 'stroking_pattern': None, 'non_stroking_color': (0,), 'non_stroking_pattern': None, 'top': 115.93999999999994, 'bottom': 127.93999999999994, 'doctop': 4325.9}, {'matrix': (1, 0, 0, 1, 212.012, 716.62), 'fontname': 'ArialMT', 'adv': 3.3360000000000003, 'upright': True, 'x0': 212.012, 'y0': 714.1, 'x1': 215.348, 'y1': 726.1, 'width': 3.3360000000000127, 'height': 12.0, 'size': 12.0, 'mcid': 2, 'tag': 'P', 'object_type': 'char', 'page_number': 6, 'ncs': 'DeviceGray', 'text': ',', 'stroking_color': (0,), 'stroking_pattern': None, 'non_stroking_color': (0,), 'non_stroking_pattern': None, 'top': 115.93999999999994, 'bottom': 127.93999999999994, 'doctop': 4325.9}, {'matrix': (1, 0, 0, 1, 218.81, 716.62), 'fontname': 'ArialMT', 'adv': 6.672000000000001, 'upright': True, 'x0': 218.81, 'y0': 714.1, 'x1': 225.482, 'y1': 726.1, 'width': 6.671999999999997, 'height': 12.0, 'size': 12.0, 'mcid': 2, 'tag': 'P', 'object_type': 'char', 'page_number': 6, 'ncs': 'DeviceGray', 'text': 'g', 'stroking_color': (0,), 'stroking_pattern': None, 'non_stroking_color': (0,), 'non_stroking_pattern': None, 'top': 115.93999999999994, 'bottom': 127.93999999999994, 'doctop': 4325.9}, {'matrix': (1, 0, 0, 1, 225.41, 716.62), 'fontname': 'ArialMT', 'adv': 6.672000000000001, 'upright': True, 'x0': 225.41, 'y0': 714.1, 'x1': 232.082, 'y1': 726.1, 'width': 6.671999999999997, 'height': 12.0, 'size': 12.0, 'mcid': 2, 'tag': 'P', 'object_type': 'char', 'page_number': 6, 'ncs': 'DeviceGray', 'text': 'a', 'stroking_color': (0,), 'stroking_pattern': None, 'non_stroking_color': (0,), 'non_stroking_pattern': None, 'top': 115.93999999999994, 'bottom': 127.93999999999994, 'doctop': 4325.9}, {'matrix': (1, 0, 0, 1, 232.118, 716.62), 'fontname': 'ArialMT', 'adv': 6.0, 'upright': True, 'x0': 232.118, 'y0': 714.1, 'x1': 238.118, 'y1': 726.1, 'width': 6.0, 'height': 12.0, 'size': 12.0, 'mcid': 2, 'tag': 'P', 'object_type': 'char', 'page_number': 6, 'ncs': 'DeviceGray', 'text': 's', 'stroking_color': (0,), 'stroking_pattern': None, 'non_stroking_color': (0,), 'non_stroking_pattern': None, 'top': 115.93999999999994, 'bottom': 127.93999999999994, 'doctop': 4325.9}, {'matrix': (1, 0, 0, 1, 238.118, 716.62), 'fontname': 'ArialMT', 'adv': 6.0, 'upright': True, 'x0': 238.118, 'y0': 714.1, 'x1': 244.118, 'y1': 726.1, 'width': 6.0, 'height': 12.0, 'size': 12.0, 'mcid': 2, 'tag': 'P', 'object_type': 'char', 'page_number': 6, 'ncs': 'DeviceGray', 'text': 'k', 'stroking_color': (0,), 'stroking_pattern': None, 'non_stroking_color': (0,), 'non_stroking_pattern': None, 'top': 115.93999999999994, 'bottom': 127.93999999999994, 'doctop': 4325.9}, {'matrix': (1, 0, 0, 1, 244.118, 716.62), 'fontname': 'ArialMT', 'adv': 6.672000000000001, 'upright': True, 'x0': 244.118, 'y0': 714.1, 'x1': 250.79, 'y1': 726.1, 'width': 6.671999999999997, 'height': 12.0, 'size': 12.0, 'mcid': 2, 'tag': 'P', 'object_type': 'char', 'page_number': 6, 'ncs': 'DeviceGray', 'text': 'e', 'stroking_color': (0,), 'stroking_pattern': None, 'non_stroking_color': (0,), 'non_stroking_pattern': None, 'top': 115.93999999999994, 'bottom': 127.93999999999994, 'doctop': 4325.9}, {'matrix': (1, 0, 0, 1, 250.71800000000002, 716.62), 'fontname': 'ArialMT', 'adv': 3.3360000000000003, 'upright': True, 'x0': 250.71800000000002, 'y0': 714.1, 'x1': 254.05400000000003, 'y1': 726.1, 'width': 3.3360000000000127, 'height': 12.0, 'size': 12.0, 'mcid': 2, 'tag': 'P', 'object_type': 'char', 'page_number': 6, 'ncs': 'DeviceGray', 'text': 't', 'stroking_color': (0,), 'stroking_pattern': None, 'non_stroking_color': (0,), 'non_stroking_pattern': None, 'top': 115.93999999999994, 'bottom': 127.93999999999994, 'doctop': 4325.9}, {'matrix': (1, 0, 0, 1, 257.426, 716.62), 'fontname': 'ArialMT', 'adv': 6.672000000000001, 'upright': True, 'x0': 257.426, 'y0': 714.1, 'x1': 264.098, 'y1': 726.1, 'width': 6.6720000000000255, 'height': 12.0, 'size': 12.0, 'mcid': 2, 'tag': 'P', 'object_type': 'char', 'page_number': 6, 'ncs': 'DeviceGray', 'text': 'a', 'stroking_color': (0,), 'stroking_pattern': None, 'non_stroking_color': (0,), 'non_stroking_pattern': None, 'top': 115.93999999999994, 'bottom': 127.93999999999994, 'doctop': 4325.9}, {'matrix': (1, 0, 0, 1, 264.026, 716.62), 'fontname': 'ArialMT', 'adv': 6.672000000000001, 'upright': True, 'x0': 264.026, 'y0': 714.1, 'x1': 270.69800000000004, 'y1': 726.1, 'width': 6.6720000000000255, 'height': 12.0, 'size': 12.0, 'mcid': 2, 'tag': 'P', 'object_type': 'char', 'page_number': 6, 'ncs': 'DeviceGray', 'text': 'n', 'stroking_color': (0,), 'stroking_pattern': None, 'non_stroking_color': (0,), 'non_stroking_pattern': None, 'top': 115.93999999999994, 'bottom': 127.93999999999994, 'doctop': 4325.9}, {'matrix': (1, 0, 0, 1, 270.734, 716.62), 'fontname': 'ArialMT', 'adv': 6.672000000000001, 'upright': True, 'x0': 270.734, 'y0': 714.1, 'x1': 277.406, 'y1': 726.1, 'width': 6.6720000000000255, 'height': 12.0, 'size': 12.0, 'mcid': 2, 'tag': 'P', 'object_type': 'char', 'page_number': 6, 'ncs': 'DeviceGray', 'text': 'd', 'stroking_color': (0,), 'stroking_pattern': None, 'non_stroking_color': (0,), 'non_stroking_pattern': None, 'top': 115.93999999999994, 'bottom': 127.93999999999994, 'doctop': 4325.9}, {'matrix': (1, 0, 0, 1, 277.442, 716.62), 'fontname': 'ArialMT', 'adv': 3.3360000000000003, 'upright': True, 'x0': 277.442, 'y0': 714.1, 'x1': 280.778, 'y1': 726.1, 'width': 3.3360000000000127, 'height': 12.0, 'size': 12.0, 'mcid': 2, 'tag': 'P', 'object_type': 'char', 'page_number': 6, 'ncs': 'DeviceGray', 'text': '/', 'stroking_color': (0,), 'stroking_pattern': None, 'non_stroking_color': (0,), 'non_stroking_pattern': None, 'top': 115.93999999999994, 'bottom': 127.93999999999994, 'doctop': 4325.9}, {'matrix': (1, 0, 0, 1, 280.682, 716.62), 'fontname': 'ArialMT', 'adv': 6.672000000000001, 'upright': True, 'x0': 280.682, 'y0': 714.1, 'x1': 287.35400000000004, 'y1': 726.1, 'width': 6.6720000000000255, 'height': 12.0, 'size': 12.0, 'mcid': 2, 'tag': 'P', 'object_type': 'char', 'page_number': 6, 'ncs': 'DeviceGray', 'text': 'o', 'stroking_color': (0,), 'stroking_pattern': None, 'non_stroking_color': (0,), 'non_stroking_pattern': None, 'top': 115.93999999999994, 'bottom': 127.93999999999994, 'doctop': 4325.9}, {'matrix': (1, 0, 0, 1, 287.39, 716.62), 'fontname': 'ArialMT', 'adv': 3.9960000000000004, 'upright': True, 'x0': 287.39, 'y0': 714.1, 'x1': 291.38599999999997, 'y1': 726.1, 'width': 3.995999999999981, 'height': 12.0, 'size': 12.0, 'mcid': 2, 'tag': 'P', 'object_type': 'char', 'page_number': 6, 'ncs': 'DeviceGray', 'text': 'r', 'stroking_color': (0,), 'stroking_pattern': None, 'non_stroking_color': (0,), 'non_stroking_pattern': None, 'top': 115.93999999999994, 'bottom': 127.93999999999994, 'doctop': 4325.9}, {'matrix': (1, 0, 0, 1, 294.722, 716.62), 'fontname': 'ArialMT', 'adv': 6.672000000000001, 'upright': True, 'x0': 294.722, 'y0': 714.1, 'x1': 301.394, 'y1': 726.1, 'width': 6.6720000000000255, 'height': 12.0, 'size': 12.0, 'mcid': 2, 'tag': 'P', 'object_type': 'char', 'page_number': 6, 'ncs': 'DeviceGray', 'text': 'g', 'stroking_color': (0,), 'stroking_pattern': None, 'non_stroking_color': (0,), 'non_stroking_pattern': None, 'top': 115.93999999999994, 'bottom': 127.93999999999994, 'doctop': 4325.9}, {'matrix': (1, 0, 0, 1, 301.31, 716.62), 'fontname': 'ArialMT', 'adv': 2.664, 'upright': True, 'x0': 301.31, 'y0': 714.1, 'x1': 303.974, 'y1': 726.1, 'width': 2.6639999999999873, 'height': 12.0, 'size': 12.0, 'mcid': 2, 'tag': 'P', 'object_type': 'char', 'page_number': 6, 'ncs': 'DeviceGray', 'text': 'l', 'stroking_color': (0,), 'stroking_pattern': None, 'non_stroking_color': (0,), 'non_stroking_pattern': None, 'top': 115.93999999999994, 'bottom': 127.93999999999994, 'doctop': 4325.9}, {'matrix': (1, 0, 0, 1, 303.974, 716.62), 'fontname': 'ArialMT', 'adv': 6.672000000000001, 'upright': True, 'x0': 303.974, 'y0': 714.1, 'x1': 310.646, 'y1': 726.1, 'width': 6.6720000000000255, 'height': 12.0, 'size': 12.0, 'mcid': 2, 'tag': 'P', 'object_type': 'char', 'page_number': 6, 'ncs': 'DeviceGray', 'text': 'a', 'stroking_color': (0,), 'stroking_pattern': None, 'non_stroking_color': (0,), 'non_stroking_pattern': None, 'top': 115.93999999999994, 'bottom': 127.93999999999994, 'doctop': 4325.9}, {'matrix': (1, 0, 0, 1, 310.64599999999996, 716.62), 'fontname': 'ArialMT', 'adv': 6.672000000000001, 'upright': True, 'x0': 310.64599999999996, 'y0': 714.1, 'x1': 317.318, 'y1': 726.1, 'width': 6.6720000000000255, 'height': 12.0, 'size': 12.0, 'mcid': 2, 'tag': 'P', 'object_type': 'char', 'page_number': 6, 'ncs': 'DeviceGray', 'text': 'n', 'stroking_color': (0,), 'stroking_pattern': None, 'non_stroking_color': (0,), 'non_stroking_pattern': None, 'top': 115.93999999999994, 'bottom': 127.93999999999994, 'doctop': 4325.9}, {'matrix': (1, 0, 0, 1, 317.378, 716.62), 'fontname': 'ArialMT', 'adv': 6.672000000000001, 'upright': True, 'x0': 317.378, 'y0': 714.1, 'x1': 324.05, 'y1': 726.1, 'width': 6.6720000000000255, 'height': 12.0, 'size': 12.0, 'mcid': 2, 'tag': 'P', 'object_type': 'char', 'page_number': 6, 'ncs': 'DeviceGray', 'text': 'd', 'stroking_color': (0,), 'stroking_pattern': None, 'non_stroking_color': (0,), 'non_stroking_pattern': None, 'top': 115.93999999999994, 'bottom': 127.93999999999994, 'doctop': 4325.9}, {'matrix': (1, 0, 0, 1, 327.42199999999997, 716.62), 'fontname': 'ArialMT', 'adv': 6.672000000000001, 'upright': True, 'x0': 327.42199999999997, 'y0': 714.1, 'x1': 334.094, 'y1': 726.1, 'width': 6.6720000000000255, 'height': 12.0, 'size': 12.0, 'mcid': 2, 'tag': 'P', 'object_type': 'char', 'page_number': 6, 'ncs': 'DeviceGray', 'text': 'p', 'stroking_color': (0,), 'stroking_pattern': None, 'non_stroking_color': (0,), 'non_stroking_pattern': None, 'top': 115.93999999999994, 'bottom': 127.93999999999994, 'doctop': 4325.9}, {'matrix': (1, 0, 0, 1, 334.154, 716.62), 'fontname': 'ArialMT', 'adv': 6.672000000000001, 'upright': True, 'x0': 334.154, 'y0': 714.1, 'x1': 340.826, 'y1': 726.1, 'width': 6.6720000000000255, 'height': 12.0, 'size': 12.0, 'mcid': 2, 'tag': 'P', 'object_type': 'char', 'page_number': 6, 'ncs': 'DeviceGray', 'text': 'a', 'stroking_color': (0,), 'stroking_pattern': None, 'non_stroking_color': (0,), 'non_stroking_pattern': None, 'top': 115.93999999999994, 'bottom': 127.93999999999994, 'doctop': 4325.9}, {'matrix': (1, 0, 0, 1, 340.86199999999997, 716.62), 'fontname': 'ArialMT', 'adv': 6.0, 'upright': True, 'x0': 340.86199999999997, 'y0': 714.1, 'x1': 346.86199999999997, 'y1': 726.1, 'width': 6.0, 'height': 12.0, 'size': 12.0, 'mcid': 2, 'tag': 'P', 'object_type': 'char', 'page_number': 6, 'ncs': 'DeviceGray', 'text': 'c', 'stroking_color': (0,), 'stroking_pattern': None, 'non_stroking_color': (0,), 'non_stroking_pattern': None, 'top': 115.93999999999994, 'bottom': 127.93999999999994, 'doctop': 4325.9}, {'matrix': (1, 0, 0, 1, 346.86199999999997, 716.62), 'fontname': 'ArialMT', 'adv': 6.0, 'upright': True, 'x0': 346.86199999999997, 'y0': 714.1, 'x1': 352.86199999999997, 'y1': 726.1, 'width': 6.0, 'height': 12.0, 'size': 12.0, 'mcid': 2, 'tag': 'P', 'object_type': 'char', 'page_number': 6, 'ncs': 'DeviceGray', 'text': 'k', 'stroking_color': (0,), 'stroking_pattern': None, 'non_stroking_color': (0,), 'non_stroking_pattern': None, 'top': 115.93999999999994, 'bottom': 127.93999999999994, 'doctop': 4325.9}, {'matrix': (1, 0, 0, 1, 352.86199999999997, 716.62), 'fontname': 'ArialMT', 'adv': 2.664, 'upright': True, 'x0': 352.86199999999997, 'y0': 714.1, 'x1': 355.52599999999995, 'y1': 726.1, 'width': 2.6639999999999873, 'height': 12.0, 'size': 12.0, 'mcid': 2, 'tag': 'P', 'object_type': 'char', 'page_number': 6, 'ncs': 'DeviceGray', 'text': 'i', 'stroking_color': (0,), 'stroking_pattern': None, 'non_stroking_color': (0,), 'non_stroking_pattern': None, 'top': 115.93999999999994, 'bottom': 127.93999999999994, 'doctop': 4325.9}, {'matrix': (1, 0, 0, 1, 355.38199999999995, 716.62), 'fontname': 'ArialMT', 'adv': 6.672000000000001, 'upright': True, 'x0': 355.38199999999995, 'y0': 714.1, 'x1': 362.054, 'y1': 726.1, 'width': 6.6720000000000255, 'height': 12.0, 'size': 12.0, 'mcid': 2, 'tag': 'P', 'object_type': 'char', 'page_number': 6, 'ncs': 'DeviceGray', 'text': 'n', 'stroking_color': (0,), 'stroking_pattern': None, 'non_stroking_color': (0,), 'non_stroking_pattern': None, 'top': 115.93999999999994, 'bottom': 127.93999999999994, 'doctop': 4325.9}, {'matrix': (1, 0, 0, 1, 362.0899999999999, 716.62), 'fontname': 'ArialMT', 'adv': 6.672000000000001, 'upright': True, 'x0': 362.0899999999999, 'y0': 714.1, 'x1': 368.76199999999994, 'y1': 726.1, 'width': 6.6720000000000255, 'height': 12.0, 'size': 12.0, 'mcid': 2, 'tag': 'P', 'object_type': 'char', 'page_number': 6, 'ncs': 'DeviceGray', 'text': 'g', 'stroking_color': (0,), 'stroking_pattern': None, 'non_stroking_color': (0,), 'non_stroking_pattern': None, 'top': 115.93999999999994, 'bottom': 127.93999999999994, 'doctop': 4325.9}, {'matrix': (1, 0, 0, 1, 372.02599999999995, 716.62), 'fontname': 'ArialMT', 'adv': 6.0, 'upright': True, 'x0': 372.02599999999995, 'y0': 714.1, 'x1': 378.02599999999995, 'y1': 726.1, 'width': 6.0, 'height': 12.0, 'size': 12.0, 'mcid': 2, 'tag': 'P', 'object_type': 'char', 'page_number': 6, 'ncs': 'DeviceGray', 'text': 's', 'stroking_color': (0,), 'stroking_pattern': None, 'non_stroking_color': (0,), 'non_stroking_pattern': None, 'top': 115.93999999999994, 'bottom': 127.93999999999994, 'doctop': 4325.9}, {'matrix': (1, 0, 0, 1, 378.02599999999995, 716.62), 'fontname': 'ArialMT', 'adv': 6.672000000000001, 'upright': True, 'x0': 378.02599999999995, 'y0': 714.1, 'x1': 384.698, 'y1': 726.1, 'width': 6.6720000000000255, 'height': 12.0, 'size': 12.0, 'mcid': 2, 'tag': 'P', 'object_type': 'char', 'page_number': 6, 'ncs': 'DeviceGray', 'text': 'h', 'stroking_color': (0,), 'stroking_pattern': None, 'non_stroking_color': (0,), 'non_stroking_pattern': None, 'top': 115.93999999999994, 'bottom': 127.93999999999994, 'doctop': 4325.9}, {'matrix': (1, 0, 0, 1, 384.7579999999999, 716.62), 'fontname': 'ArialMT', 'adv': 6.672000000000001, 'upright': True, 'x0': 384.7579999999999, 'y0': 714.1, 'x1': 391.42999999999995, 'y1': 726.1, 'width': 6.6720000000000255, 'height': 12.0, 'size': 12.0, 'mcid': 2, 'tag': 'P', 'object_type': 'char', 'page_number': 6, 'ncs': 'DeviceGray', 'text': 'a', 'stroking_color': (0,), 'stroking_pattern': None, 'non_stroking_color': (0,), 'non_stroking_pattern': None, 'top': 115.93999999999994, 'bottom': 127.93999999999994, 'doctop': 4325.9}, {'matrix': (1, 0, 0, 1, 391.46599999999995, 716.62), 'fontname': 'ArialMT', 'adv': 2.664, 'upright': True, 'x0': 391.46599999999995, 'y0': 714.1, 'x1': 394.12999999999994, 'y1': 726.1, 'width': 2.6639999999999873, 'height': 12.0, 'size': 12.0, 'mcid': 2, 'tag': 'P', 'object_type': 'char', 'page_number': 6, 'ncs': 'DeviceGray', 'text': 'l', 'stroking_color': (0,), 'stroking_pattern': None, 'non_stroking_color': (0,), 'non_stroking_pattern': None, 'top': 115.93999999999994, 'bottom': 127.93999999999994, 'doctop': 4325.9}, {'matrix': (1, 0, 0, 1, 394.12999999999994, 716.62), 'fontname': 'ArialMT', 'adv': 2.664, 'upright': True, 'x0': 394.12999999999994, 'y0': 714.1, 'x1': 396.7939999999999, 'y1': 726.1, 'width': 2.6639999999999873, 'height': 12.0, 'size': 12.0, 'mcid': 2, 'tag': 'P', 'object_type': 'char', 'page_number': 6, 'ncs': 'DeviceGray', 'text': 'l', 'stroking_color': (0,), 'stroking_pattern': None, 'non_stroking_color': (0,), 'non_stroking_pattern': None, 'top': 115.93999999999994, 'bottom': 127.93999999999994, 'doctop': 4325.9}, {'matrix': (1, 0, 0, 1, 400.08199999999994, 716.62), 'fontname': 'ArialMT', 'adv': 6.672000000000001, 'upright': True, 'x0': 400.08199999999994, 'y0': 714.1, 'x1': 406.75399999999996, 'y1': 726.1, 'width': 6.6720000000000255, 'height': 12.0, 'size': 12.0, 'mcid': 2, 'tag': 'P', 'object_type': 'char', 'page_number': 6, 'ncs': 'DeviceGray', 'text': 'b', 'stroking_color': (0,), 'stroking_pattern': None, 'non_stroking_color': (0,), 'non_stroking_pattern': None, 'top': 115.93999999999994, 'bottom': 127.93999999999994, 'doctop': 4325.9}, {'matrix': (1, 0, 0, 1, 406.7059999999999, 716.62), 'fontname': 'ArialMT', 'adv': 6.672000000000001, 'upright': True, 'x0': 406.7059999999999, 'y0': 714.1, 'x1': 413.37799999999993, 'y1': 726.1, 'width': 6.6720000000000255, 'height': 12.0, 'size': 12.0, 'mcid': 2, 'tag': 'P', 'object_type': 'char', 'page_number': 6, 'ncs': 'DeviceGray', 'text': 'e', 'stroking_color': (0,), 'stroking_pattern': None, 'non_stroking_color': (0,), 'non_stroking_pattern': None, 'top': 115.93999999999994, 'bottom': 127.93999999999994, 'doctop': 4325.9}]}]\n"
     ]
    }
   ],
   "source": [
    "# full_path = \"D:/AA_develop/parsing/2024/POS/FWG.pdf\"\n",
    "# with pdfplumber.open(full_path) as pdf:\n",
    "#     first_page = pdf.pages[5]\n",
    "#     print(first_page)\n",
    "#     result = first_page.search(\"The material of insulation, gasket and/or gland packing shall be\", regex=True, case=False, layout=True)\n",
    "#     print(result)"
   ]
  },
  {
   "cell_type": "code",
   "execution_count": 11,
   "metadata": {},
   "outputs": [],
   "source": [
    "table_settings={\n",
    "    \"vertical_strategy\": \"lines\", \n",
    "    \"horizontal_strategy\": \"lines\",\n",
    "    \"explicit_vertical_lines\": [],\n",
    "    \"explicit_horizontal_lines\": [],\n",
    "    \"snap_tolerance\": 3,\n",
    "    \"snap_x_tolerance\": 3,\n",
    "    \"snap_y_tolerance\": 3,\n",
    "    \"join_tolerance\": 3,\n",
    "    \"join_x_tolerance\": 3,\n",
    "    \"join_y_tolerance\": 3,\n",
    "    \"edge_min_length\": 3,\n",
    "    \"min_words_vertical\": 3,\n",
    "    \"min_words_horizontal\": 1,\n",
    "    \"intersection_tolerance\": 3,\n",
    "    \"intersection_x_tolerance\": 3,\n",
    "    \"intersection_y_tolerance\": 3,\n",
    "    \"text_tolerance\": 3,\n",
    "    \"text_x_tolerance\": 3,\n",
    "    \"text_y_tolerance\": 3,\n",
    "    # \"text_*\": …, # See below\n",
    "    }"
   ]
  },
  {
   "cell_type": "code",
   "execution_count": 12,
   "metadata": {},
   "outputs": [],
   "source": [
    "def convert_header_to_separator(header: str) -> str:\n",
    "    \"\"\"\n",
    "    Convert a markdown table header row into a separator row.\n",
    "\n",
    "    Args:\n",
    "    header (str): The header row string.\n",
    "\n",
    "    Returns:\n",
    "    str: The separator row string.\n",
    "    \"\"\"\n",
    "    # Use a regex to replace each header content with the appropriate number of hyphens\n",
    "    separator = re.sub(r'[^|]+', lambda m: '-' * len(m.group(0)), header)\n",
    "    return separator"
   ]
  },
  {
   "cell_type": "code",
   "execution_count": 13,
   "metadata": {},
   "outputs": [],
   "source": [
    "def table_parser(pdf_path:str, page_num:int, crop:bool):   # 테이블 파싱(마크다운 형식), A4상단 표준 크롭핑 적용 선택 가능\n",
    "    with pdfplumber.open(pdf_path) as pdf:\n",
    "        # Find the examined page\n",
    "        table_page = pdf.pages[page_num]\n",
    "        if crop:\n",
    "            bounding_box = (3, 70, 590, 770)   #default : (0, 0, 595, 841)\n",
    "            table_page = table_page.crop(bounding_box, relative=False, strict=True)\n",
    "        else: pass\n",
    "        tables = table_page.extract_tables(table_settings = table_settings)\n",
    "        if tables:\n",
    "            for table in tables:\n",
    "                table_string = ''\n",
    "                # Iterate through each row of the table\n",
    "                for row_num in range(len(table)):\n",
    "                    row = table[row_num]\n",
    "                    # Remove the line breaker from the wrapped texts\n",
    "                    cleaned_row = [item.replace('\\n', ' ') if item is not None and '\\n' in item else 'None' if item is None else item for item in row]\n",
    "                    # Convert the table into a string \n",
    "                    table_string+=('|'+'|'.join(cleaned_row)+'|'+'\\n')\n",
    "                    if row_num ==0:  # 첫줄 작업이면, Header Line 추가\n",
    "                        header_line = convert_header_to_separator(table_string[:-1])\n",
    "                        table_string+= header_line+'\\n'\n",
    "                # Removing the last line break\n",
    "                table_string = table_string[:-1]\n",
    "\n",
    "        return table_string"
   ]
  },
  {
   "cell_type": "code",
   "execution_count": 23,
   "metadata": {},
   "outputs": [
    {
     "name": "stdout",
     "output_type": "stream",
     "text": [
      "('|Query ID|Query|Expected answer|Generated response – similarity by '\n",
      " 'paragraph||Generated Response – similarity by sentence, '\n",
      " 'retrieve||Observations|\\n'\n",
      " '|--------|-----|---------------|--------------------------------------------||-----------------------------------------------------||------------|\\n'\n",
      " '|None|None|None|None|None|paragraph|None|None|\\n'\n",
      " '|F1|What do the values of RAW Group Indication subfield in RPS element '\n",
      " 'indicate?|The RAW Group Indication subfield indicates whether the RAW Group '\n",
      " 'subfield is present in the RAW Assignment subfield and is interpreted as '\n",
      " 'follows: — When the RAW type is generic RAW, sounding RAW, or triggering '\n",
      " 'frame RAW, the RAW Group Indication subfield indicates whether the RAW group '\n",
      " 'defined in the current RAW assignment is the same RAW group as defined in '\n",
      " 'the previous RAW assignment. When the RAW Group Indication subfield is equal '\n",
      " 'to 0, the RAW group defined in the current RAW assignment is the same as the '\n",
      " 'RAW group defined in the previous RAW assignment and the RAW Group subfield '\n",
      " 'is not present in this RAW assignment. When the RAW Group Indication '\n",
      " 'subfield is equal to 1, the RAW Group subfield is present in this RAW '\n",
      " 'assignment. The RAW Group Indication subfield in the first RAW assignment is '\n",
      " 'set to 0 to indicate the RAW group in the first RAW assignment is the same '\n",
      " 'as the range of AIDs in all the TIM bitmaps in the S1G Beacon frame. — When '\n",
      " 'the RAW is a non-TIM RAW, the RAW Group Indication subfield is set to 0 and '\n",
      " 'the RAW Group subfield is not present. — When the RAW is an AP PM RAW, the '\n",
      " 'RAW Group Indication subfield equal to 0 indicates that the RAW group does '\n",
      " 'not include any of the non-AP STAs, and the RAW Group subfield is not '\n",
      " 'present. When the RAW Group Indication subfield is equal to 1, the RAW Group '\n",
      " \"subfield is present.|'According to the given paragraphs, the values of the \"\n",
      " 'RAW Group Indication subfield in the RPS (Radio Parameter Set) element '\n",
      " 'indicate whether the RAW Group subfield is present or not in the RAW '\n",
      " 'Assignment subfield.||According to the given paragraphs, the values of the '\n",
      " 'RAW||A much broader context in general being available for the LLM because '\n",
      " 'of multiple retrieved paragraphs helps it in create good long form question '\n",
      " 'answering.|\\n'\n",
      " '|None|None|None|None|None|Group Indication subfield in the RPS (Radio Path '\n",
      " 'Selection)|None|None|\\n'\n",
      " '|None|None|None|None|None|element indicate whether the RAW Group subfield '\n",
      " 'is|None|None|\\n'\n",
      " '|None|None|None|None|None|present in the RAW Assignment subfield. If the '\n",
      " 'value of|None|None|\\n'\n",
      " '|None|None|None|None|None|RAW Group Indication subfield is equal to 0, it '\n",
      " 'means that|None|None|\\n'\n",
      " '|None|None|None|None|None|the RAW group defined in the current RAW '\n",
      " 'assignment is|None|None|\\n'\n",
      " '|None|None|None|None|None|the same as the RAW group defined in the previous '\n",
      " 'RAW|None|None|\\n'\n",
      " '|None|None|None|None|None|assignment, and the RAW Group subfield is not '\n",
      " 'present in|None|None|\\n'\n",
      " '|None|None|None|None|None|this RAW assignment. If the value of RAW Group '\n",
      " 'Indication|None|None|\\n'\n",
      " '|None|None|None|None|None|subfield is equal to 1, it means that the RAW '\n",
      " 'Group|None|None|\\n'\n",
      " '|None|None|None|None|None|subfield is present in this RAW '\n",
      " 'assignment|None|None|\\n'\n",
      " '|None|None|None|||None|None|None|\\n'\n",
      " '|F2|What is IGTK|integrity group temporal key (IGTK): A random value, '\n",
      " 'assigned by the broadcast/multicast source station (STA), which is used to '\n",
      " 'protect group addressed medium access control (MAC) management protocol data '\n",
      " 'units (MMPDUs) from that source STA.|Sure! Based on the given paragraphs, '\n",
      " 'the answer to your question is:\\\\n\\\\nIGTK stands for \"integrity group '\n",
      " 'temporal key\"|According to the given paragraphs, the answer to question 1 '\n",
      " 'is: IGTK stands for \"integrity group temporal key\"|None|None|Very often the '\n",
      " 'generated response is a trivial answer giving the full form of an '\n",
      " 'abbreviated technical term but not giving it’s definition|\\n'\n",
      " '|F3|What is idle power indicator|idle power indicator (IPI): A physical '\n",
      " 'layer (PHY) indication of the total channel power (noise and interference) '\n",
      " 'as measured in the channel at the receiving antenna connector while the '\n",
      " 'station (STA) is idle, i.e., neither transmitting nor receiving a frame.|IPI '\n",
      " '- idle power indicator|IPI - idle power indicator|None|None|Very often a '\n",
      " 'term is just abbreviated in a response. This can sometimes be reduced if a '\n",
      " 'user a question like “Define Idle Power Indicator” but since this is left to '\n",
      " 'the user can create issues|')\n"
     ]
    }
   ],
   "source": [
    "pprint(table_parser(total_results[2], 8, False))"
   ]
  },
  {
   "cell_type": "code",
   "execution_count": null,
   "metadata": {},
   "outputs": [],
   "source": []
  },
  {
   "cell_type": "code",
   "execution_count": 15,
   "metadata": {},
   "outputs": [
    {
     "data": {
      "text/plain": [
       "['2024', 'Manual', 'Guidance for Autonomous Ships_2023']"
      ]
     },
     "execution_count": 15,
     "metadata": {},
     "output_type": "execute_result"
    }
   ],
   "source": [
    "def extract_level_name(path:str) -> list: \n",
    "    temp = path.split(\"\\\\\")\n",
    "    lv1 = temp[1]\n",
    "    if temp[2]:\n",
    "        if temp[2] != temp[-1]:\n",
    "            lv2 = temp[2]\n",
    "            lv3 = temp[-1].replace(\".pdf\", \"\")\n",
    "        else:\n",
    "            lv2 = None\n",
    "            lv3 = temp[-1].replace(\".pdf\", \"\")\n",
    "    result = [lv1, lv2, lv3]\n",
    "    return result\n",
    "\n",
    "extract_level_name(total_results[0])"
   ]
  },
  {
   "cell_type": "code",
   "execution_count": null,
   "metadata": {},
   "outputs": [],
   "source": []
  },
  {
   "cell_type": "code",
   "execution_count": 16,
   "metadata": {},
   "outputs": [],
   "source": [
    "def main_document_converter(path:str, crop:bool) -> Iterator[Document]:  # <-- Does not take any arguments\n",
    "    full_result = []\n",
    "    file_name = path.split(\"\\\\\")[-1].split(\".\")[0].strip() # for metadata\n",
    "    img_save_folder = os.path.join(os.getcwd(), f\"images/{file_name}\")  # images 폴더 생성후 그 안에 file_name폴더 생성\n",
    "    create_folder_if_not_exists(img_save_folder)\n",
    "\n",
    "    with pdfplumber.open(path) as pdf:\n",
    "        page_number = 0  # for metadata\n",
    "        for _ in tqdm(pdf.pages):\n",
    "            \n",
    "            save_pdf_to_img(path, file_name, page_number) # pdf_to_png \n",
    "            text_result = text_parser(path, page_number, crop)  # for page_content\n",
    "            table_result = table_parser(path, page_number, crop)  # for page_content\n",
    "            level_names = extract_level_name(path)\n",
    "\n",
    "            if table_result:\n",
    "                total_page_result = text_result + \"\\n\\n\" + table_result   # table_result가 있으면, text_result 끝에 엔터후 이어붙이기\n",
    "                result = Document(\n",
    "                    page_content=total_page_result,\n",
    "                    metadata={\"page_number\": page_number, \"lv1\":level_names[0], \"lv2\": level_names[1], \"lv3\": level_names[2], \"source\": path},\n",
    "                    )\n",
    "            else:\n",
    "                result = Document(\n",
    "                    page_content=text_result,\n",
    "                    metadata={\"page_number\": page_number, \"lv1\":level_names[0], \"lv2\": level_names[1], \"lv3\": level_names[2], \"source\": path},\n",
    "                    )\n",
    "            full_result.append(result)\n",
    "            page_number += 1\n",
    "        parsed_document = full_result\n",
    "    return parsed_document   # langchain Document type"
   ]
  },
  {
   "cell_type": "code",
   "execution_count": 17,
   "metadata": {},
   "outputs": [
    {
     "data": {
      "text/plain": [
       "['.\\\\2024\\\\Manual\\\\Guidance for Autonomous Ships_2023.pdf',\n",
       " '.\\\\2024\\\\POS\\\\FWG.pdf',\n",
       " '.\\\\2024\\\\POS\\\\temp\\\\Observations on Building RAG System for Technical Documents.pdf',\n",
       " '.\\\\2024\\\\Rule\\\\PART 4_2023_hull_equipment.pdf']"
      ]
     },
     "execution_count": 17,
     "metadata": {},
     "output_type": "execute_result"
    }
   ],
   "source": [
    "total_results"
   ]
  },
  {
   "cell_type": "code",
   "execution_count": 18,
   "metadata": {},
   "outputs": [
    {
     "name": "stdout",
     "output_type": "stream",
     "text": [
      "Do Cropping\n",
      "폴더가 이미 존재합니다: d:\\AA_develop\\parsing\\images/Observations on Building RAG System for Technical Documents\n"
     ]
    },
    {
     "name": "stderr",
     "output_type": "stream",
     "text": [
      "  0%|          | 0/9 [00:00<?, ?it/s]"
     ]
    },
    {
     "name": "stderr",
     "output_type": "stream",
     "text": [
      " 44%|████▍     | 4/9 [00:01<00:02,  2.42it/s]\n"
     ]
    },
    {
     "name": "stdout",
     "output_type": "stream",
     "text": [
      "Do Not Cropping\n",
      "폴더가 이미 존재합니다: d:\\AA_develop\\parsing\\images/Observations on Building RAG System for Technical Documents\n"
     ]
    },
    {
     "name": "stderr",
     "output_type": "stream",
     "text": [
      "100%|██████████| 9/9 [00:05<00:00,  1.71it/s]"
     ]
    },
    {
     "name": "stdout",
     "output_type": "stream",
     "text": [
      "<class 'list'> <class 'langchain_core.documents.base.Document'>\n",
      "[Document(metadata={'page_number': 0, 'lv1': '2024', 'lv2': 'POS', 'lv3': 'Observations on Building RAG System for Technical Documents', 'source': '.\\\\2024\\\\POS\\\\temp\\\\Observations on Building RAG System for Technical Documents.pdf'}, page_content='PublishedasaTinyPaperatICLR2024\\nOBSERVATIONS ON BUILDING RAG SYSTEMS FOR\\nTECHNICAL DOCUMENTS\\nSumitSomanandSujoyRoychowdhury∗\\n{sumit.soman, sujoy.roychowdhury}@ericsson.com\\nABSTRACT\\nRetrieval augmented generation (RAG) for technical documents creates chal-\\nlengesasembeddingsdonotoftencapturedomaininformation. Wereviewprior\\nartforimportantfactorsaffectingRAGandperformexperimentstohighlightbest\\npracticesandpotentialchallengestobuildRAGsystemsfortechnicaldocuments.\\n1 INTRODUCTION\\nLongformQuestionAnswering(QA)involvesgeneratingparagraph-sizeresponsesfromLargeLan-\\nguageModels(LLMs). RAGfortechnicaldocumentshasseveralchallengesXuetal.(2023);Toro\\net al. (2023). Factors affecting retrieval performance, including in-context documents, LLMs and\\nmetrics,havebeenevaluatedChenetal.(2023a). Tofurtherbuildonthiswork,weconductexper-\\niments on technical documents with telecom and battery terminology to examine the influence of\\nchunklength,keyword-basedsearchandranks(sequence)ofretrievedresultsintheRAGpipeline.\\n2 EXPERIMENTAL SETUP\\nOur experiments are based on IEEE Wireless LAN Medium Access Control (MAC) and Physical\\nLayer (PHY) specifications IEEE (2021) and IEEE Standard Glossary of Stationary Battery Ter-\\nminology 1881-2016 (2016). We separately process the glossary of definitions and the full docu-\\nment,asmanyexpectedquestionsarebasedonthedefinitions.Wesourcequestionsbasedondomain\\nknowledgeandreportexperimentalresultson42representativequeriesacrossthedocuments. Mul-\\ntiple embedding models can be used, Reimers & Gurevych (2019), we use MPNET Song et al.\\n(2020)fortheentiredocument-excludingtablesandcaptions. Fortheglossary,wesplittheterm\\nandthedefinitionandgenerateseparateembeddingsforthem,aswellasforthefullparagraphhav-\\ningthedefinedtermandthedefinition. Soman&HG(2023)havereviewedotherLLMsfortelecom\\ndomain,butwechosellama2-7b-chatmodelTouvronetal.(2023)asitisfreeandhasacommercial-\\nfriendlylicense. Weevaluateonmultiplequestionsandreportonselectedquestionstosubstantiate\\nourobservations. Forreference,thepromptsusedfortheLLMareprovidedinAppendixA.\\n3 OBSERVATIONS\\nWefirstobservethatsentenceembeddingsbecomeunreliablewithincreasingchunksize. Appendix\\nB Fig. 1 shows the Kernel Density Estimate (KDE) plot of cosine similarity scores for various\\nsentencelengths. Wetake10,970sentencesandlookatpairwisesimilarityforallthesentences. A\\nhighsimilarityisobservedwhenthelengthofthesentencesisrelativelylong. Thehighersimilarity\\ndistributionforlargerlengthsindicatesspurioussimilaritieswhichwemanuallyvalidateforafew\\nsamples. Wefindthatwhenboththequeryandquerieddocumentareover200words,thesimilarity\\ndistributionisbimodal.Wheneitherofthemareover200words,thereisasmallbutlessperceptible\\nliftathighersimilarities.\\nTable1summarizesourhypothesesandkeyobservations-correspondingsamplequeriesandtheir\\nresultsareprovidedinAppendixC.Wehypothesizethatsplittingondefinitionandtermscanhelp\\nimproveresults(H1),similarityscoresbeingagoodmeasure(H2),positionofkeywordsinfluenc-\\ning results (H3), sentence-based similarity resulting in a better retriever (H4) and generator (H5),\\n∗GlobalAIAccelerator,EricssonR&D,Bangalore,India.Bothauthorscontributedequally.GitRepoLink.\\n1\\n4202\\nraM\\n13\\n]GL.sc[\\n1v75600.4042:viXra'),\n",
      " Document(metadata={'page_number': 1, 'lv1': '2024', 'lv2': 'POS', 'lv3': 'Observations on Building RAG System for Technical Documents', 'source': '.\\\\2024\\\\POS\\\\temp\\\\Observations on Building RAG System for Technical Documents.pdf'}, page_content='PublishedasaTinyPaperatICLR2024\\nHyp Hypothesis Observation Support(Samples)\\nH1 Splittingdefinitionandde- For definitions, using the defined word 22 of 30\\nfinedwordshelpinqueries and definition separately for retrieval queries (ID\\ngivesbetterperformance 2,3)\\nH2 Similarity scores should We observe that similarity scores be- 24 of 30\\nnotbeusedtocomparere- tweendifferentapproachesarenotcom- queries (ID\\ntrievedresults parable and absolute values are often 2,3)\\nverysmallforcorrectanswers\\nKeywordsclosertothebeginningofthe\\nH3 Positionofkeywordsmatter 25of30queries\\nsentence are retrieved with high accu-\\nracy\\nKeywordswhichoccurlaterinthesen- (ID 1, 4, 5,\\ntencearedifficulttoberetrieved 6)\\nH4 Sentence Based Similarity Similaritybasedonsentenceanddistinct ID F1 - Ta-\\nisbetter paragraphsretrievedgivesmuchdetailed ble 2 (8 of\\ncontexttogenerator 10queries)\\nH5 Generator for sentence Generatedanswerusingsentencebased 8 of 10\\nbasedsimilarity similarityandparagraphbasedretrieval queries\\ngivesbetterresults (App. Table\\n3-IDF1)\\nH6 Definitionswithacronyms Generatedanswersoftenexpandorpro- 15 of 16\\norwordshavingacronyms videabbreviationswhichisnothelpful queries\\ndon’tperformwell (App. Table\\n3 - ID F2,\\nF3)\\nH7 Order of retrieved para- Orderofretrievedparagraphsdonotaf- NA\\ngraphsingeneratorresults fectgeneratorresultsinourexperiments\\nTable1: Summaryofobservations-detailsofindividualqueriesinAppendixB\\nanswersfordefinitionsbasedonacronyms(H6)andeffectoforderofretrievedresultsongenerator\\nperformance(H7). Ofthese,H2isaresultofourexperimentswithdistributionsofsimilarityscores\\nreferredearlierandH7isbasedonChenetal.(2023a). Othersarederivedfromourexperimentsto\\nimproveresults. Foreachhypotheses,weprovidethenumberofexperimentsthatsupporttheclaim\\nandthosethatarevalidforthesameinthelastcolumn,alongwithsamplequeries.\\nWe find that retrieval by thresholding on similarity scores is not helpful. For queries 1, 2 and\\n5, when the query phrase is present in the term or definition, top retrieved score is higher. For\\nquery 3, the correct result is retrieved at the second position using definition embedding, but in\\nother cases, result is not retrieved and similarity scores are close. For queries 4 and 6, we are\\nunabletoretrievethecorrectresult,thoughscoresindicateotherwise. Thus,thresholdingretriever\\nresultsbasedonsimilarityscorescanpotentiallyresultinsub-optimalgeneratoraugmentation. We\\nevaluategeneratorperformanceonourqueriesbasedontheretrievedresults. Thisisdoneusingthe\\ntop k retrieved (a) definitions, and (b) terms and definitions. Better context gives better generated\\nresponses. Foracronymsandtheirexpansions,thegeneratordoesnotaddanyadditionalvalue.\\nFor retrieval on the full document, we explore similarity search by sentence and paragraph sepa-\\nrately. Intheformer,weretrievetheparagraphtowhichthesentencebelongsandtaketop-kdistinct\\nparagraphs from top similar sentences. We observe that the results by sentence-based similarity\\nsearchandparagraphsbeingusedforgeneratorprovidesbetterretrieverandgeneratorperformance.\\nAuthorsinChenetal.(2023a)mentionorderofpresentedinformationtobeimportant,butwedid\\nnotobservedifferentresultsonpermutingtheretrievedparagraphs. Weobservegeneratorresponses\\ntosometimesfailduetoincorrectretrieval, hallucinatedfactsorincorrectsynthesisashighlighted\\ninChenetal.(2023a). WerecommendsuchapproachesfordefinitionQAandlongformQA.\\n4 CONCLUSIONS AND FUTURE WORK\\nWeshowthatchunklengthaffectsretrieverembeddings,andgeneratoraugmentationbythreshold-\\ningretrieverresultsonsimilarityscorescanbeunreliable.However,useofabbreviationsandalarge\\nnumberofrelatedparagraphsforatopicmakeourobservationsparticularlyrelevantforlongform\\nQA on technical documents. As future work, we would like to use RAG metrics Es et al. (2023);\\nChenetal.(2023b)tochooseretrievalstrategies. Also, methodsandevaluationmetricstoanswer\\nfollow-upquestionswouldbeofinterest.\\n2\\n\\n|Hyp|Hypothesis|Observation|Support(Samples)|\\n|---|----------|-----------|----------------|\\n|H1|Splittingdefinitionandde- finedwordshelpinqueries|For definitions, using the defined word and definition separately for retrieval givesbetterperformance|22 of 30 queries (ID 2,3)|\\n|H2|Similarity scores should notbeusedtocomparere- trievedresults|We observe that similarity scores be- tweendifferentapproachesarenotcom- parable and absolute values are often verysmallforcorrectanswers|24 of 30 queries (ID 2,3)|\\n|H3|Positionofkeywordsmatter|Keywordsclosertothebeginningofthe sentence are retrieved with high accu- racy|25of30queries (ID 1, 4, 5, 6)|\\n|None|None|Keywordswhichoccurlaterinthesen- tencearedifficulttoberetrieved|None|\\n|H4|Sentence Based Similarity isbetter|Similaritybasedonsentenceanddistinct paragraphsretrievedgivesmuchdetailed contexttogenerator|ID F1 - Ta- ble 2 (8 of 10queries)|\\n|H5|Generator for sentence basedsimilarity|Generatedanswerusingsentencebased similarityandparagraphbasedretrieval givesbetterresults|8 of 10 queries (App. Table 3-IDF1)|\\n|H6|Definitionswithacronyms orwordshavingacronyms don’tperformwell|Generatedanswersoftenexpandorpro- videabbreviationswhichisnothelpful|15 of 16 queries (App. Table 3 - ID F2, F3)|\\n|H7|Order of retrieved para- graphsingeneratorresults|Orderofretrievedparagraphsdonotaf- fectgeneratorresultsinourexperiments|NA|'),\n",
      " Document(metadata={'page_number': 2, 'lv1': '2024', 'lv2': 'POS', 'lv3': 'Observations on Building RAG System for Technical Documents', 'source': '.\\\\2024\\\\POS\\\\temp\\\\Observations on Building RAG System for Technical Documents.pdf'}, page_content='PublishedasaTinyPaperatICLR2024\\nURMSTATEMENT\\nTheauthorsacknowledgethatatleastonekeyauthorofthisworkmeetstheURMcriteriaofICLR\\n2024TinyPapersTrack.\\nREFERENCES\\nIEEE1881-2016. IEEEstandardglossaryofstationarybatteryterminology. IEEEStd1881-2016,\\npp.1–42,2016. doi: 10.1109/IEEESTD.2016.7552407.\\nHung-TingChen,FangyuanXu,ShaneAArora,andEunsolChoi.Understandingretrievalaugmen-\\ntationforlong-formquestionanswering. arXivpreprintarXiv:2310.12150,2023a.\\nJiawei Chen, Hongyu Lin, Xianpei Han, and Le Sun. Benchmarking large language models in\\nretrieval-augmentedgeneration. arXivpreprintarXiv:2309.01431,2023b.\\nShahulEs,JithinJames,LuisEspinosa-Anke,andStevenSchockaert.Ragas:Automatedevaluation\\nofretrievalaugmentedgeneration. arXivpreprintarXiv:2309.15217,2023.\\nIEEE. IEEE standard for information technology–telecommunications and information exchange\\nbetweensystems-localandMetropolitanAreaNetworks–specificrequirements-part11: Wire-\\nless LAN medium access control (MAC) and physical layer (PHY) specifications. IEEE Std\\n802.11-2020 (Revision of IEEE Std 802.11-2016), pp. 1–4379, 2021. doi: 10.1109/IEEESTD.\\n2021.9363693.\\nNils Reimers and Iryna Gurevych. Sentence-BERT: Sentence embeddings using siamese bert-\\nnetworks. In Proceedings of the 2019 Conference on Empirical Methods in Natural Language\\nProcessingandthe9thInternationalJointConferenceonNaturalLanguageProcessing(EMNLP-\\nIJCNLP).AssociationforComputationalLinguistics,2019.\\nSumitSomanandRanjaniHG. ObservationsonLLMsfortelecomdomain: Capabilitiesandlimi-\\ntations(ToappearintheproceedingsofTheThirdInternationalConferenceonArtificialIntelli-\\ngenceandMachineLearningSystems). arXivpreprintarXiv:2305.13102,2023.\\nKaitaoSong,XuTan,TaoQin,JianfengLu,andTie-YanLiu. MPNET:Maskedandpermutedpre-\\ntraining for language understanding. Advances in Neural Information Processing Systems, 33:\\n16857–16867,2020.\\nSabrinaToro,AnnaVAnagnostopoulos,SueBello,KaiBlumberg,RhiannonCameron,LeighCar-\\nmody,AlexanderDDiehl,DamionDooley,WilliamDuncan,PetraFey,etal. Dynamicretrieval\\naugmented generation of ontologies using artificial intelligence (DRAGON-AI). arXiv preprint\\narXiv:2312.10904,2023.\\nHugoTouvron,LouisMartin,KevinStone,PeterAlbert,AmjadAlmahairi,YasmineBabaei,Niko-\\nlayBashlykov,SoumyaBatra,PrajjwalBhargava,ShrutiBhosale,etal. Llama2: Openfounda-\\ntionandfine-tunedchatmodels. arXivpreprintarXiv:2307.09288,2023.\\nBenfengXu,ChunxuZhao,WenbinJiang,PengfeiZhu,SongtaiDai,ChaoPang,ZhuoSun,Shuo-\\nhuan Wang, and Yu Sun. Retrieval-augmented domain adaptation of language models. In Pro-\\nceedingsofthe8thWorkshoponRepresentationLearningforNLP(RepL4NLP2023),pp.54–64,\\n2023.\\n3'),\n",
      " Document(metadata={'page_number': 3, 'lv1': '2024', 'lv2': 'POS', 'lv3': 'Observations on Building RAG System for Technical Documents', 'source': '.\\\\2024\\\\POS\\\\temp\\\\Observations on Building RAG System for Technical Documents.pdf'}, page_content='PublishedasaTinyPaperatICLR2024\\nA APPENDIX A\\nThepromptsusedfortheLLMinourexperimentsareasfollows:\\n• System Prompt: Answer the questions based on the paragraphs provided here. DO NOT\\nuse any other information except that in the paragraphs. Keep the answers as short as\\npossible. JUSTGIVETHEANSWER.NOPREAMBLEREQUIRED.\\n• UserPrompt: “PARAGRAPHS:”+context+“QUESTIONS:”+query\\nB APPENDIX B\\nFigure1: Thedistributionofsimilaritiesacross10974documentsofvarioussizessplitbynumber\\nofwordsinthedocument\\nC APPENDIX C - SUPPLEMENTARY MATERIAL\\nWeprovideananonymizedGitrepositorywhichcontains\\n• Anonymizedsourcecode\\n• Experimentv/shypothesistabulation(forconsolidatedquantitativeresults)\\n• Detailsoftheexperimentsacross42queriesand7hypothesis\\nIn addition, we provide details with respect to hypotheses in Table 1 by providing sample queries\\nandtheretrievedandgeneratedresults.\\n4'),\n",
      " Document(metadata={'page_number': 4, 'lv1': '2024', 'lv2': 'POS', 'lv3': 'Observations on Building RAG System for Technical Documents', 'source': '.\\\\2024\\\\POS\\\\temp\\\\Observations on Building RAG System for Technical Documents.pdf'}, page_content=\"Table 1 – Retrieval from Glossary\\nID Query Expected answer Use full sentence Use defined word Use definition Observations\\n1. Explain EIRP effective isotropic radiated power Effective isotropic radiated power Effective isotropic radiated power (EIRP): The Effective isotropic radiated power (EIRP): The The retriever obtains\\n(EIRP): The equivalent power of a (EIRP): The equivalent power of a equivalent power of a transmitted signal in equivalent power of a transmitted signal in the correct definition\\ntransmitted signal in terms of an transmitted signal in terms of an terms of an isotropic (omnidirectional) terms of an isotropic (omnidirectional) by all 3. Also keyword\\nisotropic (omnidirectional) radiator. isotropic (omnidirectional) radiator. The radiator. The EIRP equals the product of the radiator. The EIRP equals the product of the at beginning of\\nThe EIRP equals the product of the EIRP equals the product of the transmitter power and the antenna gain transmitter power and the antenna gain sentence is picked up\\ntransmitter power and the antenna transmitter power and the antenna gain (reduced by any coupling losses between the (reduced by any coupling losses between the with high similarity in\\ngain (reduced by any coupling losses (reduced by any coupling losses transmitter and antenna transmitter and antenna (0.669) full sentence mode.\\nbetween the transmitter and between the transmitter and antenna). (0.478)\\nantenna). (0.614)\\nEmergency alert system (EAS): A U.S. Emergency alert system (EAS): A U.S. national IEEE 802.1X authentication',\\nnational public warning system. (0.372) public warning system. ' Extensible Authentication Protocol (EAP)\\n(0.337) authentication transported by the IEEE 802.1X\\nprotocol.\\n(0.360)\\nReceived channel power indicator Extended service area (ESA): The area within Master session key (MSK): Keying material\\n(RCPI): An indication of the total which members of an extended service set that is derived between the Extensible\\nchannel power (signal, noise, and (ESS) can communicate. An ESA is larger than Authentication Protocol (EAP) peer and\\ninterference) of a received frame or equal to a basic service area (BSA) and exported by the EAP method to the\\nmeasured on the channel and at the might involve several basic service sets (BSSs) Authentication Server (AS)\\nantenna connector used to receive the in overlapping, disjointed, or both (0.291)\\nframe. (0.362) configurations. (0.322)\\n2 Why do we beamforming steering matrix: A beamformee: A station (STA) that beamforming: A spatial filtering mechanism beamformer: A station (STA) that transmits a the top-1 does not\\nneed a beam matrix determined using knowledge receives a physical layer (PHY) protocol used at a transmitter to improve the received physical layer (PHY) protocol data unit (PPDU) return the correct\\nsteering matrix of the channel between a transmitter data unit (PPDU) that was transmitted signal power or signal-to-noise ratio (SNR) at using a beamforming steering matrix. (0.426) answer using the\\nand an intended receiver that maps using a beamforming steering matrix. an intended receiver. Syn beam steering. defined word. The\\nfrom space-time streams to transmit (0.626) (0.745) definition does not\\nantennas with the goal of improving return it in top-3. The\\nthe signal power or signal-to-noise full definition returns\\nratio (SNR) at the intended receiver it in 3rd position.\\nHowever top sim in\\ndefinition > correct\\nbeamforming: A spatial filtering beamforming steering matrix: A matrix beamforming: A spatial filtering mechanism\\nanswer in defined\\nmechanism used at a transmitter to determined using knowledge of the channel used at a transmitter to improve the received\\nword. Similarly wrong\\nimprove the received signal power or between a transmitter and an intended signal power or signal-to-noise ratio (SNR) at\\n2 answers in the full\\nsignal-to-noise ratio (SNR) at an receiver that maps from space-time streams an intended receiver. Syn beam steering.\\ndefinition have higher\\nintended receiver. Syn beam steering. to transmit antennas with the goal of (0.367)\\nsim than correct\\n(0.458) improving the signal power or signal-to-noise\\nanswer in full\\nratio (SNR) at the intended receiver.\\nsentence\\n(0.443)\\n\\n|beamforming steering matrix: A matrix|\\n|-------------------------------------|\\n|determined using knowledge of the channel|\\n|between a transmitter and an intended|\\n|receiver that maps from space-time streams|\\n|to transmit antennas with the goal of|\\n|improving the signal power or signal-to-noise|\\n|ratio (SNR) at the intended receiver.|\\n|(0.443)|\"),\n",
      " Document(metadata={'page_number': 5, 'lv1': '2024', 'lv2': 'POS', 'lv3': 'Observations on Building RAG System for Technical Documents', 'source': '.\\\\2024\\\\POS\\\\temp\\\\Observations on Building RAG System for Technical Documents.pdf'}, page_content='beamforming steering matrix: A matrix directed frame: See individually addressed. unknown_definition_18:NOTE These uses\\ndetermined using knowledge of the (0.309) include calculation of transmit steering,\\nchannel between a transmitter and an calculation of recommended modulation and\\nintended receiver that maps from coding scheme (MCS), and calculation of\\nspace-time streams to transmit calibration parameters. (0.359)\\nantennas with the goal of improving the\\nsignal power or signal-to-noise ratio\\n(SNR) at the intended receiver.\\n(0.398)\\n3 Which multi-level precedence and traffic category (TC): A label for medium traffic classification (TCLAS): The specification admission control: An algorithm intended to Only the definition can\\nframework preemption (MLPP): A framework access control (MAC) service data units of one of several types of matching filter to prevent the violation of parameterized service extract the correct\\nsupports higher used with admission control for the (MSDUs) that have a distinct user classify protocol data units (PDUs) or medium commitments made by the network to answer but similarity\\nprecision traffic treatment of traffic streams based on priority (UP), as viewed by higher layer access control (MAC) service data units admitted flows by controlling the admittance for the correct answer\\nunder a precedence, which supports the entities, relative to other MSDUs (MSDUs) as belonging to a particular traffic of a new flow into a resource constrained via definition is lesser\\ncondition of preemption of an active traffic provided for delivery over the same link. stream (TS). Depending on the type of network. (0.405) than even the 3rd\\nlimited stream by a higher precedence traffic Traffic categories are meaningful only to classification, the filter is applied within the result from the other\\nresources stream when resources are limited. MAC entities that support quality of MAC sublayer management entity (MLME), methods\\nPreemption is the act of forcibly service (QoS) within the MAC data above the MAC, or within the MAC itself.\\nremoving a traffic stream in progress service. These MAC entities determine (0.535)\\nin order to free up resources for the UP for MSDUs belonging to a\\nanother higher precedence traffic particular traffic category using the\\nstream. priority value provided with those\\nMSDUs at the MAC service access point\\n(MAC SAP). (0.456)\\ntraffic specification (TSPEC): The quality- traffic specification (TSPEC): The quality-of- multi-level precedence and preemption\\nof-service (QoS) characteristics of a data service (QoS) characteristics of a data flow to (MLPP): A framework used with admission\\nflow to and from a QoS station (STA). and from a QoS station (STA). control for the treatment of traffic streams\\n(0.437) (0.489) based on precedence, which supports the\\npreemption of an active traffic stream by a\\nhigher precedence traffic stream when\\nresources are limited. Preemption is the act of\\nforcibly removing a traffic stream in progress\\nin order to free up resources for another\\nhigher precedence traffic stream.(0.398)\\ntraffic stream (TS): A set of medium traffic stream (TS): A set of medium access traffic specification (TSPEC): The quality-of-\\naccess control (MAC) service data units control (MAC) service data units (MSDUs) to service (QoS) characteristics of a data flow to\\n(MSDUs) to be delivered subject to the be delivered subject to the quality-of-service and from a QoS station (STA). (0.396)\\nquality-of-service (QoS) parameter (QoS) parameter values provided to the MAC\\nvalues provided to the MAC in a in a particular traffic specification (TSPEC). TSs\\nparticular traffic specification (TSPEC). are meaningful only to MAC entities that\\nTSs are meaningful only to MAC entities support QoS within the MAC data service.\\nthat support QoS within the MAC data These MAC entities determine the TSPEC\\nservice. These MAC entities determine applicable for delivery of MSDUs belonging to\\nthe TSPEC applicable for delivery of a particular TS using the priority parameter\\nMSDUs belonging to a particular TS provided with those MSDUs at the MAC\\nusing the priority parameter provided service access point (MAC SAP). (0.461)\\nwith those MSDUs at the MAC service\\naccess point (MAC SAP). (0.411)\\n4. How is medium access control (MAC) service unknown_definition_2: NOTE See IETF peer-to-peer traffic specification (PTP TSPEC): frame: A unit of data exchanged between Unable to identify this\\nEthertype tuple: The collection of a MAC RFC 3610. (0.434) The quality-of-service (QoS) characteristics of peer protocol entities. (0.418) despite it being\\nprotocol service data unit (MSDU) along with a data flow between non-access point (non- available as a keyword\\ndiscrimination the associated source address, AP) QoS stations (STAs). (0.413) in the actual definition\\n\\n|||||beamforming steering matrix: A matrix||directed frame: See individually addressed. (0.309)|unknown_definition_18:NOTE These uses include calculation of transmit steering, calculation of recommended modulation and coding scheme (MCS), and calculation of calibration parameters. (0.359)|None|None||\\n|||||-------------------------------------||---------------------------------------------------|-------------------------------------------------------------------------------------------------------------------------------------------------------------------------------------------------|----|----||\\n|None|None|None|None|determined using knowledge of the|None|None|None|None|None|None|\\n|None|None|None|None|channel between a transmitter and an|None|None|None|None|None|None|\\n|None|None|None|None|intended receiver that maps from|None|None|None|None|None|None|\\n|None|None|None|None|space-time streams to transmit|None|None|None|None|None|None|\\n|None|None|None|None|antennas with the goal of improving the|None|None|None|None|None|None|\\n|None|None|None|None|signal power or signal-to-noise ratio|None|None|None|None|None|None|\\n|None|None|None|None|(SNR) at the intended receiver.|None|None|None|None|None|None|\\n|None|None|None|None|(0.398)|None|None|None|None|None|None|\\n|None|None|None|None||None|None|None|None|None|None|\\n|3|Which framework supports higher precision traffic under a condition of limited resources|multi-level precedence and preemption (MLPP): A framework used with admission control for the treatment of traffic streams based on precedence, which supports the preemption of an active traffic stream by a higher precedence traffic stream when resources are limited. Preemption is the act of forcibly removing a traffic stream in progress in order to free up resources for another higher precedence traffic stream.|traffic category (TC): A label for medium access control (MAC) service data units (MSDUs) that have a distinct user priority (UP), as viewed by higher layer entities, relative to other MSDUs provided for delivery over the same link. Traffic categories are meaningful only to MAC entities that support quality of service (QoS) within the MAC data service. These MAC entities determine the UP for MSDUs belonging to a particular traffic category using the priority value provided with those MSDUs at the MAC service access point (MAC SAP). (0.456)|None|None|traffic classification (TCLAS): The specification of one of several types of matching filter to classify protocol data units (PDUs) or medium access control (MAC) service data units (MSDUs) as belonging to a particular traffic stream (TS). Depending on the type of classification, the filter is applied within the MAC sublayer management entity (MLME), above the MAC, or within the MAC itself. (0.535)|admission control: An algorithm intended to prevent the violation of parameterized service commitments made by the network to admitted flows by controlling the admittance of a new flow into a resource constrained network. (0.405)|None|None|Only the definition can extract the correct answer but similarity for the correct answer via definition is lesser than even the 3rd result from the other methods|\\n|None|None|None|traffic specification (TSPEC): The quality- of-service (QoS) characteristics of a data flow to and from a QoS station (STA). (0.437)|None|None|traffic specification (TSPEC): The quality-of- service (QoS) characteristics of a data flow to and from a QoS station (STA). (0.489)||multi-level precedence and preemption||None|\\n|None|None|None|None|None|None|None|None|(MLPP): A framework used with admission|None|None|\\n|None|None|None|None|None|None|None|None|control for the treatment of traffic streams|None|None|\\n|None|None|None|None|None|None|None|None|based on precedence, which supports the|None|None|\\n|None|None|None|None|None|None|None|None|preemption of an active traffic stream by a|None|None|\\n|None|None|None|None|None|None|None|None|higher precedence traffic stream when|None|None|\\n|None|None|None|None|None|None|None|None|resources are limited. Preemption is the act of|None|None|\\n|None|None|None|None|None|None|None|None|forcibly removing a traffic stream in progress|None|None|\\n|None|None|None|None|None|None|None|None|in order to free up resources for another|None|None|\\n|None|None|None|None|None|None|None|None|higher precedence traffic stream.(0.398)|None|None|\\n|None|None|None|traffic stream (TS): A set of medium access control (MAC) service data units (MSDUs) to be delivered subject to the quality-of-service (QoS) parameter values provided to the MAC in a particular traffic specification (TSPEC). TSs are meaningful only to MAC entities that support QoS within the MAC data service. These MAC entities determine the TSPEC applicable for delivery of MSDUs belonging to a particular TS using the priority parameter provided with those MSDUs at the MAC service access point (MAC SAP). (0.411)|None|None|traffic stream (TS): A set of medium access control (MAC) service data units (MSDUs) to be delivered subject to the quality-of-service (QoS) parameter values provided to the MAC in a particular traffic specification (TSPEC). TSs are meaningful only to MAC entities that support QoS within the MAC data service. These MAC entities determine the TSPEC applicable for delivery of MSDUs belonging to a particular TS using the priority parameter provided with those MSDUs at the MAC service access point (MAC SAP). (0.461)|traffic specification (TSPEC): The quality-of- service (QoS) characteristics of a data flow to and from a QoS station (STA). (0.396)|None|None|None|\\n|4.|How is Ethertype protocol discrimination|medium access control (MAC) service tuple: The collection of a MAC service data unit (MSDU) along with the associated source address,|unknown_definition_2: NOTE See IETF RFC 3610. (0.434)|None|None|peer-to-peer traffic specification (PTP TSPEC): The quality-of-service (QoS) characteristics of a data flow between non-access point (non- AP) QoS stations (STAs). (0.413)|frame: A unit of data exchanged between peer protocol entities. (0.418)|None|None|Unable to identify this despite it being available as a keyword in the actual definition|'),\n",
      " Document(metadata={'page_number': 6, 'lv1': '2024', 'lv2': 'POS', 'lv3': 'Observations on Building RAG System for Technical Documents', 'source': '.\\\\2024\\\\POS\\\\temp\\\\Observations on Building RAG System for Technical Documents.pdf'}, page_content='(EPD) destination addresses, priority, drop frame: A unit of data exchanged protocol instance: An execution of a particular unknown_definition_9: NOTE See IETF RFC\\nidentified? eligibility, service class, optional set between peer protocol entities. (0.432) protocol that consists of the state of the 4282. (0.407)\\nof service_access_point_identifiers, communicating parties as well as the\\nand optional indication of whether messages exchanged. (0.380)\\nthe supplied MSDU is in Ethertype unknown_definition_9: NOTE See IETF traffic classification (TCLAS): The specification traffic classification (TCLAS): The specification\\nprotocol discrimination (EPD) or RFC 4282. (0.404) of one of several types of matching filter to of one of several types of matching filter to\\nlogical link control (LLC) protocol classify protocol data units (PDUs) or medium classify protocol data units (PDUs) or medium\\ndiscrimination (LPD) format, which access control (MAC) service data units access control (MAC) service data units\\nare all passed as parameters across (MSDUs) as belonging to a particular traffic (MSDUs) as belonging to a particular traffic\\nthe MAC service access point (SAP) stream (TS). Depending on the type of stream (TS). Depending on the type of\\nand are all except the classification, the filter is applied within the classification, the filter is applied within the\\nservice_access_point_identifiers MAC sublayer management entity (MLME), MAC sublayer management entity (MLME),\\ndelivered across the distribution above the MAC, or within the MAC itself. above the MAC, or within the MAC itself.\\nsystem between access points (APs), (0.370) (0.383)\\nmesh gates, and the portal of an\\nextended service set (ESS).\\n5 What does GAS registered location query protocol unknown_definition_1:NOTE See IETF unknown_definition_8: NOTE IEEE Std 802.11 distribution system medium (DSM): The Unable to identify this\\nstand for? (RLQP): The query protocol for RFC 2903 [B35]. (0.384) supports only downlink (DL) MU-MIMO. See medium or set of media used by a distribution despite it being\\nregistered location information that downlink multi-user multiple input, multiple system (DS) for communications between available as a keyword\\nis received and transported by output (DL-MU-MIMO) (in 3.2). (0.343) access points (APs), mesh gates, and the in the actual definition\\ngeneric advertisement service (GAS) portal of an extended service set (ESS).\\nPublic Action frames. (0.357)\\nunknown_definition_2:NOTE See IETF unknown_definition_13: NOTE For the service hash: A value used for representing a\\nRFC 3610. (0.376) purposes of this Standard, there is at most service. This value is formed from a hash of\\none portal in a given extended service set(cid:0)s the service name.\\n(ESS(cid:0)s) infrastructure. In an implementation, a (0.322)\\nsingle logical portal function may be provided\\nby multiple devices that provide integration\\nservices for the ESS. How such multiple\\ndevices coordinate to appear as a single\\nlogical portal is implementation dependent.\\n(0.337)\\nunknown_definition_9:NOTE See IETF unknown_definition_18: NOTE These uses subscription service provider (SSP): An\\nRFC 4282. (0.370) include calculation of transmit steering, organization (operator) offering connection to\\ncalculation of recommended modulation and network services, perhaps for a fee.\\ncoding scheme (MCS), and calculation of (0.304)\\ncalibration parameters.\\n(0.334)\\n6 What is derived master session key (MSK): Keying IEEE 802.1X authentication: Extensible peer mesh station (STA): A mesh STA to which frame: A unit of data exchanged between The keyword is\\nbetween EAP material that is derived between the Authentication Protocol (EAP) a mesh peering has been established. peer protocol entities. relatively at the\\npeer Extensible Authentication Protocol authentication transported by the IEEE (0.460) (0.625) beginning of the\\n(EAP) peer and exported by the EAP 802.1X protocol. (0.491) sentence and is\\nmethod to the Authentication Server master session key (MSK): Keying peer-to-peer link: A direct link within a quality- IEEE 802.1X authentication: Extensible therefore picked up\\n(AS). material that is derived between the of-service (QoS) basic service set (BSS), a Authentication Protocol (EAP) authentication wherever available (it\\nExtensible Authentication Protocol tunneled direct- link setup (TDLS) link, or a transported by the IEEE 802.1X protocol. is not available in the\\n(EAP) peer and exported by the EAP station-to-station (STA-to-STA) communication (0.476) defined word)\\nmethod to the Authentication Server in an independent basic service set (IBSS).\\n(AS). (0.434) (0.401)\\npeer-to-peer traffic specification (PTP peer-to-peer traffic specification (PTP TSPEC): master session key (MSK): Keying material\\nTSPEC): The quality-of-service (QoS) The quality-of-service (QoS) characteristics of that is derived between the Extensible\\ncharacteristics of a data flow between a data flow between non-access point (non- Authentication Protocol (EAP) peer and\\nnon-access point (non-AP) QoS stations AP) QoS stations (STAs). exported by the EAP method to the\\n(STAs). (0.373) Authentication Server (AS).\\n(0.410) (0.451)\\n\\n||(EPD) identified?|destination addresses, priority, drop eligibility, service class, optional set of service_access_point_identifiers, and optional indication of whether the supplied MSDU is in Ethertype protocol discrimination (EPD) or logical link control (LLC) protocol discrimination (LPD) format, which are all passed as parameters across the MAC service access point (SAP) and are all except the service_access_point_identifiers delivered across the distribution system between access points (APs), mesh gates, and the portal of an extended service set (ESS).|frame: A unit of data exchanged between peer protocol entities. (0.432)|None|None|protocol instance: An execution of a particular protocol that consists of the state of the communicating parties as well as the messages exchanged. (0.380)|unknown_definition_9: NOTE See IETF RFC 4282. (0.407)|None|None||\\n||-----------------|------------------------------------------------------------------------------------------------------------------------------------------------------------------------------------------------------------------------------------------------------------------------------------------------------------------------------------------------------------------------------------------------------------------------------------------------------------------------------------------------------------------------------------------------------------------|-----------------------------------------------------------------------|----|----|-----------------------------------------------------------------------------------------------------------------------------------------------------------|-----------------------------------------------------|----|----||\\n|None|None|None|unknown_definition_9: NOTE See IETF RFC 4282. (0.404)|None|None|traffic classification (TCLAS): The specification of one of several types of matching filter to classify protocol data units (PDUs) or medium access control (MAC) service data units (MSDUs) as belonging to a particular traffic stream (TS). Depending on the type of classification, the filter is applied within the MAC sublayer management entity (MLME), above the MAC, or within the MAC itself. (0.370)|traffic classification (TCLAS): The specification of one of several types of matching filter to classify protocol data units (PDUs) or medium access control (MAC) service data units (MSDUs) as belonging to a particular traffic stream (TS). Depending on the type of classification, the filter is applied within the MAC sublayer management entity (MLME), above the MAC, or within the MAC itself. (0.383)|None|None|None|\\n|5|What does GAS stand for?|registered location query protocol (RLQP): The query protocol for registered location information that is received and transported by generic advertisement service (GAS) Public Action frames.|unknown_definition_1:NOTE See IETF RFC 2903 [B35]. (0.384)|None|None|unknown_definition_8: NOTE IEEE Std 802.11 supports only downlink (DL) MU-MIMO. See downlink multi-user multiple input, multiple output (DL-MU-MIMO) (in 3.2). (0.343)|distribution system medium (DSM): The medium or set of media used by a distribution system (DS) for communications between access points (APs), mesh gates, and the portal of an extended service set (ESS). (0.357)|None|None|Unable to identify this despite it being available as a keyword in the actual definition|\\n|None|None|None|unknown_definition_2:NOTE See IETF RFC 3610. (0.376)|None|None|unknown_definition_13: NOTE For the purposes of this Standard, there is at most one portal in a given extended service set(cid:0)s (ESS(cid:0)s) infrastructure. In an implementation, a single logical portal function may be provided by multiple devices that provide integration services for the ESS. How such multiple devices coordinate to appear as a single logical portal is implementation dependent. (0.337)|service hash: A value used for representing a service. This value is formed from a hash of the service name. (0.322)|None|None|None|\\n|None|None|None|unknown_definition_9:NOTE See IETF RFC 4282. (0.370)|None|None|unknown_definition_18: NOTE These uses include calculation of transmit steering, calculation of recommended modulation and coding scheme (MCS), and calculation of calibration parameters. (0.334)|subscription service provider (SSP): An organization (operator) offering connection to network services, perhaps for a fee. (0.304)|None|None|None|\\n|6|What is derived between EAP peer|master session key (MSK): Keying material that is derived between the Extensible Authentication Protocol (EAP) peer and exported by the EAP method to the Authentication Server (AS).|IEEE 802.1X authentication: Extensible Authentication Protocol (EAP) authentication transported by the IEEE 802.1X protocol. (0.491)|None|None|peer mesh station (STA): A mesh STA to which a mesh peering has been established. (0.460)|frame: A unit of data exchanged between peer protocol entities. (0.625)|None|None|The keyword is relatively at the beginning of the sentence and is therefore picked up wherever available (it is not available in the defined word)|\\n|None|None|None||master session key (MSK): Keying||peer-to-peer link: A direct link within a quality- of-service (QoS) basic service set (BSS), a tunneled direct- link setup (TDLS) link, or a station-to-station (STA-to-STA) communication in an independent basic service set (IBSS). (0.401)|IEEE 802.1X authentication: Extensible Authentication Protocol (EAP) authentication transported by the IEEE 802.1X protocol. (0.476)|None|None|None|\\n|None|None|None|None|material that is derived between the|None|None|None|None|None|None|\\n|None|None|None|None|Extensible Authentication Protocol|None|None|None|None|None|None|\\n|None|None|None|None|(EAP) peer and exported by the EAP|None|None|None|None|None|None|\\n|None|None|None|None|method to the Authentication Server|None|None|None|None|None|None|\\n|None|None|None|None|(AS). (0.434)|None|None|None|None|None|None|\\n|None|None|None|peer-to-peer traffic specification (PTP TSPEC): The quality-of-service (QoS) characteristics of a data flow between non-access point (non-AP) QoS stations (STAs). (0.410)|None|None|peer-to-peer traffic specification (PTP TSPEC): The quality-of-service (QoS) characteristics of a data flow between non-access point (non- AP) QoS stations (STAs). (0.373)||master session key (MSK): Keying material||None|\\n|None|None|None|None|None|None|None|None|that is derived between the Extensible|None|None|\\n|None|None|None|None|None|None|None|None|Authentication Protocol (EAP) peer and|None|None|\\n|None|None|None|None|None|None|None|None|exported by the EAP method to the|None|None|\\n|None|None|None|None|None|None|None|None|Authentication Server (AS).|None|None|\\n|None|None|None|None|None|None|None|None|(0.451)|None|None|'),\n",
      " Document(metadata={'page_number': 7, 'lv1': '2024', 'lv2': 'POS', 'lv3': 'Observations on Building RAG System for Technical Documents', 'source': '.\\\\2024\\\\POS\\\\temp\\\\Observations on Building RAG System for Technical Documents.pdf'}, page_content='Table 2 – Retrieval from full document\\nQuery ID Query Expected answer Search for paragraph Search by sentence retrieve paragraph Observations\\nF1 What do the values The RAW Group Indication subfield indicates The format of the RAW Group subfield is shown in When the RAW is an AP PM RAW, the RAW Group It is clear that similarity\\nof RAW Group whether the RAW Group subfield is present in Figure 9-672 Indication subfield equal to 0 indicates that the RAW group search at sentence level and\\nIndication subfield in the RAW does not include any of the non-AP STAs, and the RAW retrieval at paragraph level\\nRPS element Assignment subfield and is interpreted as Group subfield is not present. When the RAW Group gives significantly better\\nindicate? follows: Indication subfield is equal to 1, the RAW Group subfield is results. Since we retrieve 3\\n— When the RAW type is generic RAW, present. distinct paragraphs there is\\nsounding RAW, or triggering frame RAW, the far more context available at\\nRAW Group Indication subfield indicates the generator create good\\nwhether the RAW group defined in the current responses\\nRAW assignment is the\\nsame RAW group as defined in the previous When the RAW is an AP PM RAW, the RAW Group The RAW Group Indication subfield indicates whether the\\nRAW assignment. When the RAW Group Indication subfield equal to 0 indicates that the RAW Group subfield is present in the RAW Assignment\\nIndication subfield is equal to 0, the RAW group RAW group does not include any of the non-AP subfield and is interpreted as follows:\\ndefined in the current RAW assignment is the STAs, and the RAW Group subfield is not present.\\nsame as the When the RAW Group Indication subfield is equal\\nRAW group defined in the previous RAW to 1, the RAW Group subfield is present.\\nassignment and the RAW Group subfield is not The RAW Group Indication subfield indicates When the RAW type is generic RAW, sounding RAW, or\\npresent in this RAW assignment. When the whether the RAW Group subfield is present in the triggering frame RAW, the RAW Group Indication subfield\\nRAW Group Indication subfield is equal to 1, the RAW Assignment subfield and is interpreted as indicates whether the RAW group defined in the current\\nRAW Group subfield is present in this RAW follows: RAW assignment is the same RAW group as defined in the\\nassignment. The RAW Group Indication subfield previous RAW assignment. When the RAW Group\\nin the first RAW assignment is set to 0 to Indication subfield is equal to 0, the RAW group defined in\\nindicate the RAW group in the first RAW the current RAW assignment is the same as the RAW group\\nassignment is the same as the range of AIDs in defined in the previous RAW assignment and the RAW\\nall the TIM bitmaps in the S1G Beacon frame. Group subfield is not present in this RAW assignment.\\n— When the RAW is a non-TIM RAW, the RAW When the RAW Group Indication subfield is equal to 1, the\\nGroup Indication subfield is set to 0 and the RAW Group subfield is present in this RAW assignment. The\\nRAW RAW Group Indication subfield in the first RAW assignment\\nGroup subfield is not present. is set to 0 to indicate the RAW group in the first RAW\\n— When the RAW is an AP PM RAW, the RAW assignment is the same as the range of AIDs in all the TIM\\nGroup Indication subfield equal to 0 indicates bitmaps in the S1G Beacon frame.\\nthat the\\nRAW group does not include any of the non-AP\\nSTAs, and the RAW Group subfield is not\\npresent.\\nWhen the RAW Group Indication subfield is\\nequal to 1, the RAW Group subfield is present.\\n\\n|When the RAW type is generic RAW, sounding RAW, or|\\n|--------------------------------------------------|\\n|triggering frame RAW, the RAW Group Indication subfield|\\n|indicates whether the RAW group defined in the current|\\n|RAW assignment is the same RAW group as defined in the|\\n|previous RAW assignment. When the RAW Group|\\n|Indication subfield is equal to 0, the RAW group defined in|\\n|the current RAW assignment is the same as the RAW group|\\n|defined in the previous RAW assignment and the RAW|\\n|Group subfield is not present in this RAW assignment.|\\n|When the RAW Group Indication subfield is equal to 1, the|\\n|RAW Group subfield is present in this RAW assignment. The|\\n|RAW Group Indication subfield in the first RAW assignment|\\n|is set to 0 to indicate the RAW group in the first RAW|\\n|assignment is the same as the range of AIDs in all the TIM|\\n|bitmaps in the S1G Beacon frame.|'),\n",
      " Document(metadata={'page_number': 8, 'lv1': '2024', 'lv2': 'POS', 'lv3': 'Observations on Building RAG System for Technical Documents', 'source': '.\\\\2024\\\\POS\\\\temp\\\\Observations on Building RAG System for Technical Documents.pdf'}, page_content='Table 3 – Generator Performance\\nQuery ID Query Expected answer Generated response – similarity by paragraph Generated Response – similarity by sentence, retrieve Observations\\nparagraph\\nF1 What do the values The RAW Group Indication subfield indicates \\'According to the given paragraphs, the values of According to the given paragraphs, the values of the RAW A much broader context in\\nof RAW Group whether the RAW Group subfield is present in the RAW Group Indication subfield in the RPS Group Indication subfield in the RPS (Radio Path Selection) general being available for\\nIndication subfield in the RAW (Radio Parameter Set) element indicate whether element indicate whether the RAW Group subfield is the LLM because of multiple\\nRPS element Assignment subfield and is interpreted as the RAW Group subfield is present or not in the present in the RAW Assignment subfield. If the value of retrieved paragraphs helps it\\nindicate? follows: RAW Assignment subfield. RAW Group Indication subfield is equal to 0, it means that in create good long form\\n— When the RAW type is generic RAW, the RAW group defined in the current RAW assignment is question answering.\\nsounding RAW, or triggering frame RAW, the the same as the RAW group defined in the previous RAW\\nRAW Group Indication subfield indicates assignment, and the RAW Group subfield is not present in\\nwhether the RAW group defined in the current this RAW assignment. If the value of RAW Group Indication\\nRAW assignment is the subfield is equal to 1, it means that the RAW Group\\nsame RAW group as defined in the previous subfield is present in this RAW assignment\\nRAW assignment. When the RAW Group\\nIndication subfield is equal to 0, the RAW group\\ndefined in the current RAW assignment is the\\nsame as the RAW group defined in the previous\\nRAW assignment and the RAW Group subfield is\\nnot present in this RAW assignment. When the\\nRAW Group Indication subfield is equal to 1, the\\nRAW Group subfield is present in this RAW\\nassignment. The RAW Group Indication subfield\\nin the first RAW assignment is set to 0 to\\nindicate the RAW group in the first RAW\\nassignment is the same as the range of AIDs in\\nall the TIM bitmaps in the S1G Beacon frame.\\n— When the RAW is a non-TIM RAW, the RAW\\nGroup Indication subfield is set to 0 and the\\nRAW Group subfield is not present.\\n— When the RAW is an AP PM RAW, the RAW\\nGroup Indication subfield equal to 0 indicates\\nthat the RAW group does not include any of the\\nnon-AP STAs, and the RAW Group subfield is\\nnot present.\\nWhen the RAW Group Indication subfield is\\nequal to 1, the RAW Group subfield is present.\\nF2 What is IGTK integrity group temporal key (IGTK): A random Sure! Based on the given paragraphs, the answer to According to the given paragraphs, the answer to question Very often the generated\\nvalue, assigned by the broadcast/multicast your question is:\\\\n\\\\nIGTK stands for \"integrity 1 is: IGTK stands for \"integrity group temporal key\" response is a trivial answer\\nsource station group temporal key\" giving the full form of an\\n(STA), which is used to protect group addressed abbreviated technical term\\nmedium access control (MAC) management but not giving it’s definition\\nprotocol data\\nunits (MMPDUs) from that source STA.\\nF3 What is idle power idle power indicator (IPI): A physical layer (PHY) IPI - idle power indicator IPI - idle power indicator Very often a term is just\\nindicator indication of the total channel power (noise and abbreviated in a response.\\ninterference) as measured in the channel at the This can sometimes be\\nreceiving antenna connector while the station reduced if a user a question\\n(STA) is idle, i.e., neither transmitting nor like “Define Idle Power\\nreceiving a frame. Indicator” but since this is\\nleft to the user can create\\nissues\\n\\n|Query ID|Query|Expected answer|Generated response – similarity by paragraph||Generated Response – similarity by sentence, retrieve||Observations|\\n|--------|-----|---------------|--------------------------------------------||-----------------------------------------------------||------------|\\n|None|None|None|None|None|paragraph|None|None|\\n|F1|What do the values of RAW Group Indication subfield in RPS element indicate?|The RAW Group Indication subfield indicates whether the RAW Group subfield is present in the RAW Assignment subfield and is interpreted as follows: — When the RAW type is generic RAW, sounding RAW, or triggering frame RAW, the RAW Group Indication subfield indicates whether the RAW group defined in the current RAW assignment is the same RAW group as defined in the previous RAW assignment. When the RAW Group Indication subfield is equal to 0, the RAW group defined in the current RAW assignment is the same as the RAW group defined in the previous RAW assignment and the RAW Group subfield is not present in this RAW assignment. When the RAW Group Indication subfield is equal to 1, the RAW Group subfield is present in this RAW assignment. The RAW Group Indication subfield in the first RAW assignment is set to 0 to indicate the RAW group in the first RAW assignment is the same as the range of AIDs in all the TIM bitmaps in the S1G Beacon frame. — When the RAW is a non-TIM RAW, the RAW Group Indication subfield is set to 0 and the RAW Group subfield is not present. — When the RAW is an AP PM RAW, the RAW Group Indication subfield equal to 0 indicates that the RAW group does not include any of the non-AP STAs, and the RAW Group subfield is not present. When the RAW Group Indication subfield is equal to 1, the RAW Group subfield is present.|\\'According to the given paragraphs, the values of the RAW Group Indication subfield in the RPS (Radio Parameter Set) element indicate whether the RAW Group subfield is present or not in the RAW Assignment subfield.||According to the given paragraphs, the values of the RAW||A much broader context in general being available for the LLM because of multiple retrieved paragraphs helps it in create good long form question answering.|\\n|None|None|None|None|None|Group Indication subfield in the RPS (Radio Path Selection)|None|None|\\n|None|None|None|None|None|element indicate whether the RAW Group subfield is|None|None|\\n|None|None|None|None|None|present in the RAW Assignment subfield. If the value of|None|None|\\n|None|None|None|None|None|RAW Group Indication subfield is equal to 0, it means that|None|None|\\n|None|None|None|None|None|the RAW group defined in the current RAW assignment is|None|None|\\n|None|None|None|None|None|the same as the RAW group defined in the previous RAW|None|None|\\n|None|None|None|None|None|assignment, and the RAW Group subfield is not present in|None|None|\\n|None|None|None|None|None|this RAW assignment. If the value of RAW Group Indication|None|None|\\n|None|None|None|None|None|subfield is equal to 1, it means that the RAW Group|None|None|\\n|None|None|None|None|None|subfield is present in this RAW assignment|None|None|\\n|None|None|None|||None|None|None|\\n|F2|What is IGTK|integrity group temporal key (IGTK): A random value, assigned by the broadcast/multicast source station (STA), which is used to protect group addressed medium access control (MAC) management protocol data units (MMPDUs) from that source STA.|Sure! Based on the given paragraphs, the answer to your question is:\\\\n\\\\nIGTK stands for \"integrity group temporal key\"|According to the given paragraphs, the answer to question 1 is: IGTK stands for \"integrity group temporal key\"|None|None|Very often the generated response is a trivial answer giving the full form of an abbreviated technical term but not giving it’s definition|\\n|F3|What is idle power indicator|idle power indicator (IPI): A physical layer (PHY) indication of the total channel power (noise and interference) as measured in the channel at the receiving antenna connector while the station (STA) is idle, i.e., neither transmitting nor receiving a frame.|IPI - idle power indicator|IPI - idle power indicator|None|None|Very often a term is just abbreviated in a response. This can sometimes be reduced if a user a question like “Define Idle Power Indicator” but since this is left to the user can create issues|')]\n"
     ]
    },
    {
     "name": "stderr",
     "output_type": "stream",
     "text": [
      "\n"
     ]
    }
   ],
   "source": [
    "try: \n",
    "    print(\"Do Cropping\")\n",
    "    result = main_document_converter(path=total_results[2], crop=True)\n",
    "except:\n",
    "    print(\"Do Not Cropping\")\n",
    "    result = main_document_converter(path=total_results[2], crop=False)\n",
    "\n",
    "print(type(result), type(result[0]))\n",
    "pprint(result)"
   ]
  },
  {
   "cell_type": "code",
   "execution_count": 19,
   "metadata": {},
   "outputs": [
    {
     "name": "stdout",
     "output_type": "stream",
     "text": [
      "('Table 3 – Generator Performance\\n'\n",
      " 'Query ID Query Expected answer Generated response – similarity by paragraph '\n",
      " 'Generated Response – similarity by sentence, retrieve Observations\\n'\n",
      " 'paragraph\\n'\n",
      " \"F1 What do the values The RAW Group Indication subfield indicates 'According \"\n",
      " 'to the given paragraphs, the values of According to the given paragraphs, '\n",
      " 'the values of the RAW A much broader context in\\n'\n",
      " 'of RAW Group whether the RAW Group subfield is present in the RAW Group '\n",
      " 'Indication subfield in the RPS Group Indication subfield in the RPS (Radio '\n",
      " 'Path Selection) general being available for\\n'\n",
      " 'Indication subfield in the RAW (Radio Parameter Set) element indicate '\n",
      " 'whether element indicate whether the RAW Group subfield is the LLM because '\n",
      " 'of multiple\\n'\n",
      " 'RPS element Assignment subfield and is interpreted as the RAW Group subfield '\n",
      " 'is present or not in the present in the RAW Assignment subfield. If the '\n",
      " 'value of retrieved paragraphs helps it\\n'\n",
      " 'indicate? follows: RAW Assignment subfield. RAW Group Indication subfield is '\n",
      " 'equal to 0, it means that in create good long form\\n'\n",
      " '— When the RAW type is generic RAW, the RAW group defined in the current RAW '\n",
      " 'assignment is question answering.\\n'\n",
      " 'sounding RAW, or triggering frame RAW, the the same as the RAW group defined '\n",
      " 'in the previous RAW\\n'\n",
      " 'RAW Group Indication subfield indicates assignment, and the RAW Group '\n",
      " 'subfield is not present in\\n'\n",
      " 'whether the RAW group defined in the current this RAW assignment. If the '\n",
      " 'value of RAW Group Indication\\n'\n",
      " 'RAW assignment is the subfield is equal to 1, it means that the RAW Group\\n'\n",
      " 'same RAW group as defined in the previous subfield is present in this RAW '\n",
      " 'assignment\\n'\n",
      " 'RAW assignment. When the RAW Group\\n'\n",
      " 'Indication subfield is equal to 0, the RAW group\\n'\n",
      " 'defined in the current RAW assignment is the\\n'\n",
      " 'same as the RAW group defined in the previous\\n'\n",
      " 'RAW assignment and the RAW Group subfield is\\n'\n",
      " 'not present in this RAW assignment. When the\\n'\n",
      " 'RAW Group Indication subfield is equal to 1, the\\n'\n",
      " 'RAW Group subfield is present in this RAW\\n'\n",
      " 'assignment. The RAW Group Indication subfield\\n'\n",
      " 'in the first RAW assignment is set to 0 to\\n'\n",
      " 'indicate the RAW group in the first RAW\\n'\n",
      " 'assignment is the same as the range of AIDs in\\n'\n",
      " 'all the TIM bitmaps in the S1G Beacon frame.\\n'\n",
      " '— When the RAW is a non-TIM RAW, the RAW\\n'\n",
      " 'Group Indication subfield is set to 0 and the\\n'\n",
      " 'RAW Group subfield is not present.\\n'\n",
      " '— When the RAW is an AP PM RAW, the RAW\\n'\n",
      " 'Group Indication subfield equal to 0 indicates\\n'\n",
      " 'that the RAW group does not include any of the\\n'\n",
      " 'non-AP STAs, and the RAW Group subfield is\\n'\n",
      " 'not present.\\n'\n",
      " 'When the RAW Group Indication subfield is\\n'\n",
      " 'equal to 1, the RAW Group subfield is present.\\n'\n",
      " 'F2 What is IGTK integrity group temporal key (IGTK): A random Sure! Based on '\n",
      " 'the given paragraphs, the answer to According to the given paragraphs, the '\n",
      " 'answer to question Very often the generated\\n'\n",
      " 'value, assigned by the broadcast/multicast your question is:\\\\n\\\\nIGTK '\n",
      " 'stands for \"integrity 1 is: IGTK stands for \"integrity group temporal key\" '\n",
      " 'response is a trivial answer\\n'\n",
      " 'source station group temporal key\" giving the full form of an\\n'\n",
      " '(STA), which is used to protect group addressed abbreviated technical term\\n'\n",
      " 'medium access control (MAC) management but not giving it’s definition\\n'\n",
      " 'protocol data\\n'\n",
      " 'units (MMPDUs) from that source STA.\\n'\n",
      " 'F3 What is idle power idle power indicator (IPI): A physical layer (PHY) IPI '\n",
      " '- idle power indicator IPI - idle power indicator Very often a term is just\\n'\n",
      " 'indicator indication of the total channel power (noise and abbreviated in a '\n",
      " 'response.\\n'\n",
      " 'interference) as measured in the channel at the This can sometimes be\\n'\n",
      " 'receiving antenna connector while the station reduced if a user a question\\n'\n",
      " '(STA) is idle, i.e., neither transmitting nor like “Define Idle Power\\n'\n",
      " 'receiving a frame. Indicator” but since this is\\n'\n",
      " 'left to the user can create\\n'\n",
      " 'issues\\n'\n",
      " '\\n'\n",
      " '|Query ID|Query|Expected answer|Generated response – similarity by '\n",
      " 'paragraph||Generated Response – similarity by sentence, '\n",
      " 'retrieve||Observations|\\n'\n",
      " '|--------|-----|---------------|--------------------------------------------||-----------------------------------------------------||------------|\\n'\n",
      " '|None|None|None|None|None|paragraph|None|None|\\n'\n",
      " '|F1|What do the values of RAW Group Indication subfield in RPS element '\n",
      " 'indicate?|The RAW Group Indication subfield indicates whether the RAW Group '\n",
      " 'subfield is present in the RAW Assignment subfield and is interpreted as '\n",
      " 'follows: — When the RAW type is generic RAW, sounding RAW, or triggering '\n",
      " 'frame RAW, the RAW Group Indication subfield indicates whether the RAW group '\n",
      " 'defined in the current RAW assignment is the same RAW group as defined in '\n",
      " 'the previous RAW assignment. When the RAW Group Indication subfield is equal '\n",
      " 'to 0, the RAW group defined in the current RAW assignment is the same as the '\n",
      " 'RAW group defined in the previous RAW assignment and the RAW Group subfield '\n",
      " 'is not present in this RAW assignment. When the RAW Group Indication '\n",
      " 'subfield is equal to 1, the RAW Group subfield is present in this RAW '\n",
      " 'assignment. The RAW Group Indication subfield in the first RAW assignment is '\n",
      " 'set to 0 to indicate the RAW group in the first RAW assignment is the same '\n",
      " 'as the range of AIDs in all the TIM bitmaps in the S1G Beacon frame. — When '\n",
      " 'the RAW is a non-TIM RAW, the RAW Group Indication subfield is set to 0 and '\n",
      " 'the RAW Group subfield is not present. — When the RAW is an AP PM RAW, the '\n",
      " 'RAW Group Indication subfield equal to 0 indicates that the RAW group does '\n",
      " 'not include any of the non-AP STAs, and the RAW Group subfield is not '\n",
      " 'present. When the RAW Group Indication subfield is equal to 1, the RAW Group '\n",
      " \"subfield is present.|'According to the given paragraphs, the values of the \"\n",
      " 'RAW Group Indication subfield in the RPS (Radio Parameter Set) element '\n",
      " 'indicate whether the RAW Group subfield is present or not in the RAW '\n",
      " 'Assignment subfield.||According to the given paragraphs, the values of the '\n",
      " 'RAW||A much broader context in general being available for the LLM because '\n",
      " 'of multiple retrieved paragraphs helps it in create good long form question '\n",
      " 'answering.|\\n'\n",
      " '|None|None|None|None|None|Group Indication subfield in the RPS (Radio Path '\n",
      " 'Selection)|None|None|\\n'\n",
      " '|None|None|None|None|None|element indicate whether the RAW Group subfield '\n",
      " 'is|None|None|\\n'\n",
      " '|None|None|None|None|None|present in the RAW Assignment subfield. If the '\n",
      " 'value of|None|None|\\n'\n",
      " '|None|None|None|None|None|RAW Group Indication subfield is equal to 0, it '\n",
      " 'means that|None|None|\\n'\n",
      " '|None|None|None|None|None|the RAW group defined in the current RAW '\n",
      " 'assignment is|None|None|\\n'\n",
      " '|None|None|None|None|None|the same as the RAW group defined in the previous '\n",
      " 'RAW|None|None|\\n'\n",
      " '|None|None|None|None|None|assignment, and the RAW Group subfield is not '\n",
      " 'present in|None|None|\\n'\n",
      " '|None|None|None|None|None|this RAW assignment. If the value of RAW Group '\n",
      " 'Indication|None|None|\\n'\n",
      " '|None|None|None|None|None|subfield is equal to 1, it means that the RAW '\n",
      " 'Group|None|None|\\n'\n",
      " '|None|None|None|None|None|subfield is present in this RAW '\n",
      " 'assignment|None|None|\\n'\n",
      " '|None|None|None|||None|None|None|\\n'\n",
      " '|F2|What is IGTK|integrity group temporal key (IGTK): A random value, '\n",
      " 'assigned by the broadcast/multicast source station (STA), which is used to '\n",
      " 'protect group addressed medium access control (MAC) management protocol data '\n",
      " 'units (MMPDUs) from that source STA.|Sure! Based on the given paragraphs, '\n",
      " 'the answer to your question is:\\\\n\\\\nIGTK stands for \"integrity group '\n",
      " 'temporal key\"|According to the given paragraphs, the answer to question 1 '\n",
      " 'is: IGTK stands for \"integrity group temporal key\"|None|None|Very often the '\n",
      " 'generated response is a trivial answer giving the full form of an '\n",
      " 'abbreviated technical term but not giving it’s definition|\\n'\n",
      " '|F3|What is idle power indicator|idle power indicator (IPI): A physical '\n",
      " 'layer (PHY) indication of the total channel power (noise and interference) '\n",
      " 'as measured in the channel at the receiving antenna connector while the '\n",
      " 'station (STA) is idle, i.e., neither transmitting nor receiving a frame.|IPI '\n",
      " '- idle power indicator|IPI - idle power indicator|None|None|Very often a '\n",
      " 'term is just abbreviated in a response. This can sometimes be reduced if a '\n",
      " 'user a question like “Define Idle Power Indicator” but since this is left to '\n",
      " 'the user can create issues|')\n"
     ]
    }
   ],
   "source": [
    "pprint(result[8].page_content)"
   ]
  },
  {
   "cell_type": "code",
   "execution_count": 48,
   "metadata": {},
   "outputs": [
    {
     "data": {
      "text/plain": [
       "['.\\\\2024\\\\Manual\\\\Guidance for Autonomous Ships_2023.pdf',\n",
       " '.\\\\2024\\\\POS\\\\FWG.pdf',\n",
       " '.\\\\2024\\\\POS\\\\temp\\\\Observations on Building RAG System for Technical Documents.pdf',\n",
       " '.\\\\2024\\\\Rule\\\\PART 4_2023_hull_equipment.pdf']"
      ]
     },
     "execution_count": 48,
     "metadata": {},
     "output_type": "execute_result"
    }
   ],
   "source": [
    "total_results"
   ]
  },
  {
   "cell_type": "code",
   "execution_count": 49,
   "metadata": {},
   "outputs": [
    {
     "data": {
      "text/plain": [
       "'.\\\\2024\\\\Rule\\\\PART 4_2023_hull_equipment.pdf'"
      ]
     },
     "execution_count": 49,
     "metadata": {},
     "output_type": "execute_result"
    }
   ],
   "source": [
    "pdf_path = total_results[3]\n",
    "pdf_path"
   ]
  },
  {
   "cell_type": "code",
   "execution_count": 50,
   "metadata": {},
   "outputs": [],
   "source": [
    "def get_table_bbox(path:str, page_num:int) -> list:\n",
    "    result = []\n",
    "    with pdfplumber.open(path) as pdf:\n",
    "        pages = pdf.pages\n",
    "        page = pages[page_num]\n",
    "        for table in page.find_tables():\n",
    "            bbox = table.bbox\n",
    "            result.append(bbox)\n",
    "    return result"
   ]
  },
  {
   "cell_type": "code",
   "execution_count": 51,
   "metadata": {},
   "outputs": [
    {
     "data": {
      "text/plain": [
       "[(119.696, 328.44100000000003, 460.912, 454.782),\n",
       " (129.53, 495.897, 451.197, 585.2)]"
      ]
     },
     "execution_count": 51,
     "metadata": {},
     "output_type": "execute_result"
    }
   ],
   "source": [
    "get_table_bbox(pdf_path, 6)"
   ]
  },
  {
   "cell_type": "code",
   "execution_count": 54,
   "metadata": {},
   "outputs": [],
   "source": [
    "def text_parser(path:str, page_num:int, crop:bool):   # 텍스트 파싱, A4상단 표준 크롭핑 적용 선택 \n",
    "    with pdfplumber.open(path) as pdf:\n",
    "        page = pdf.pages[page_num]\n",
    "        if crop:\n",
    "            bounding_box = (3, 70, 590, 770)   #default : (0, 0, 595, 841)\n",
    "            page = page.crop(bounding_box, relative=False, strict=True)\n",
    "        else: pass\n",
    "\n",
    "        bbox_list = get_table_bbox(path=path, page_num=page_num)\n",
    "        print(bbox_list)\n",
    "\n",
    "        \n",
    "\n",
    "        if bbox_list:\n",
    "            for bbox in bbox_list:\n",
    "                text_above_table = page.within_bbox((0, 0, page.width, bbox[1])).extract_text()\n",
    "                text_below_table = page.within_bbox((0, bbox[3], page.width, page.height)).extract_text()\n",
    "\n",
    "        page.ta\n",
    "\n",
    "\n",
    "\n",
    "    #     result = page.extract_text(layout=False)\n",
    "    # return result"
   ]
  },
  {
   "cell_type": "code",
   "execution_count": 55,
   "metadata": {},
   "outputs": [
    {
     "name": "stdout",
     "output_type": "stream",
     "text": [
      "[(119.696, 328.44100000000003, 460.912, 454.782), (129.53, 495.897, 451.197, 585.2)]\n",
      "None\n"
     ]
    }
   ],
   "source": [
    "pprint(text_parser(pdf_path, 6, True))"
   ]
  },
  {
   "cell_type": "code",
   "execution_count": 57,
   "metadata": {},
   "outputs": [],
   "source": [
    "def table_parser(pdf_path:str, page_num:int, crop:bool):   # 테이블 파싱(마크다운 형식), A4상단 표준 크롭핑 적용 선택 가능\n",
    "    full_table = []\n",
    "    with pdfplumber.open(pdf_path) as pdf:\n",
    "        # Find the examined page\n",
    "        table_page = pdf.pages[page_num]\n",
    "        if crop:\n",
    "            bounding_box = (3, 70, 590, 770)   #default : (0, 0, 595, 841)\n",
    "            table_page = table_page.crop(bounding_box, relative=False, strict=True)\n",
    "        else: pass\n",
    "        tables = table_page.extract_tables(table_settings = table_settings)\n",
    "        if tables:\n",
    "            for table in tables:\n",
    "                table_string = ''\n",
    "                # Iterate through each row of the table\n",
    "                for row_num in range(len(table)):\n",
    "                    row = table[row_num]\n",
    "                    # Remove the line breaker from the wrapped texts\n",
    "                    cleaned_row = [item.replace('\\n', ' ') if item is not None and '\\n' in item else 'None' if item is None else item for item in row]\n",
    "                    # Convert the table into a string \n",
    "                    table_string+=('|'+'|'.join(cleaned_row)+'|'+'\\n')\n",
    "                    if row_num ==0:  # 첫줄 작업이면, Header Line 추가\n",
    "                        header_line = convert_header_to_separator(table_string[:-1])\n",
    "                        table_string+= header_line+'\\n'\n",
    "                # Removing the last line break\n",
    "                table_string = table_string[:-1]\n",
    "                full_table.append(table_string)\n",
    "\n",
    "        return full_table"
   ]
  },
  {
   "cell_type": "code",
   "execution_count": 58,
   "metadata": {},
   "outputs": [
    {
     "data": {
      "text/plain": [
       "['|\\ue0ae (N/mm2) \\ue0fd|\\ue00a|\\n|-----------|-|\\n|\\ue0ae \\ue056\\ue035\\ue036\\ue038 \\ue0fd|\\ue044\\ue035\\ue036\\ue038\\ue045\\ue03d\\ue053\\ue03a\\ue038 \\ue00a\\ue047 \\ue06d \\ue0ae \\ue0fd|\\n|\\ue0ae ≤\\ue035\\ue036\\ue038 \\ue0fd|\\ue044\\ue035\\ue036\\ue038\\ue045\\ue034\\ue053\\ue03d \\ue00a\\ue047 \\ue06d \\ue0ae \\ue0fd|\\n|\\ue0ae = yield stress(N/mm2) of material used, and is not to be taken greater \\ue0fd than 0.7\\ue0ae or 450(N/mm2), whichever is smaller value. \\ue013 \\ue0ae = specified minimum tensile strength of material used(N/mm2). \\ue013|None|',\n",
       " '|Material|\\ue00a|\\n|--------|-|\\n|A, B, D or E|1.0|\\n|AH32, DH32 or EH32|0.78|\\n|AH36, DH36 or EH36|0.72|\\n|AH40, DH40 or EH40|0.68|']"
      ]
     },
     "execution_count": 58,
     "metadata": {},
     "output_type": "execute_result"
    }
   ],
   "source": [
    "table_parser(pdf_path, 6, True)"
   ]
  },
  {
   "cell_type": "code",
   "execution_count": null,
   "metadata": {},
   "outputs": [],
   "source": [
    "import pdfplumber\n",
    "\n",
    "# Path to the PDF file\n",
    "pdf_path = \"your_pdf_file.pdf\"\n",
    "\n",
    "# Open the PDF\n",
    "with pdfplumber.open(pdf_path) as pdf:\n",
    "    # Select the page you want to parse\n",
    "    page = pdf.pages[0]  # Replace 0 with the appropriate page number\n",
    "\n",
    "    # Define the bounding boxes of the two tables\n",
    "    # (left, top, right, bottom) for each table\n",
    "    table1_bbox = (100, 200, 500, 300)  # Example coordinates for the first table\n",
    "    table2_bbox = (100, 500, 500, 600)  # Example coordinates for the second table\n",
    "\n",
    "    # Get the text from the area above the first table\n",
    "    text_above_table1 = page.within_bbox((0, 0, page.width, table1_bbox[1])).extract_text()\n",
    "\n",
    "    # Get the text from the area between the first and second table\n",
    "    text_between_tables = page.within_bbox((0, table1_bbox[3], page.width, table2_bbox[1])).extract_text()\n",
    "\n",
    "    # Get the text from the area below the second table\n",
    "    text_below_table2 = page.within_bbox((0, table2_bbox[3], page.width, page.height)).extract_text()\n",
    "\n",
    "    # Combine the extracted text\n",
    "    full_text = (\n",
    "        (text_above_table1 or \"\") + \"\\n\" +\n",
    "        (text_between_tables or \"\") + \"\\n\" +\n",
    "        (text_below_table2 or \"\")\n",
    "    )\n",
    "\n",
    "    print(full_text)\n"
   ]
  },
  {
   "cell_type": "code",
   "execution_count": 71,
   "metadata": {},
   "outputs": [
    {
     "name": "stdout",
     "output_type": "stream",
     "text": [
      "<Page:1>\n",
      "BERT: Pre-training of Deep Bidirectional Transformers for\n",
      "Language Understanding\n",
      "JacobDevlin Ming-WeiChang KentonLee KristinaToutanova\n",
      "GoogleAILanguage\n",
      "{jacobdevlin,mingweichang,kentonl,kristout}@google.com\n",
      "Abstract There are two existing strategies for apply-\n",
      "ingpre-trainedlanguage representations todown-\n",
      "We introduce a new language representa-\n",
      "stream tasks: feature-based and fine-tuning. The\n",
      "tion model called BERT, which stands for\n",
      "feature-based approach, such as ELMo (Peters\n",
      "Bidirectional Encoder Representations from\n",
      "Transformers. Unlike recent language repre- et al., 2018a), uses task-specific architectures that\n",
      "sentation models (Peters et al., 2018a; Rad- include the pre-trained representations as addi-\n",
      "ford et al., 2018), BERT is designed to pre- tional features. The fine-tuning approach, such as\n",
      "train deep bidirectional representations from the Generative Pre-trained Transformer (OpenAI\n",
      "unlabeledtextbyjointlyconditioningonboth\n",
      "GPT) (Radford et al., 2018), introduces minimal\n",
      "left and right context in all layers. As a re-\n",
      "task-specific parameters, and is trained on the\n",
      "sult,thepre-trainedBERTmodelcanbefine-\n",
      "downstream tasks by simply fine-tuning all pre-\n",
      "tuned with just one additional output layer\n",
      "trainedparameters. Thetwoapproachessharethe\n",
      "to create state-of-the-art models for a wide\n",
      "rangeoftasks,suchasquestionansweringand sameobjectivefunctionduringpre-training,where\n",
      "language inference, without substantial task- they use unidirectional language models to learn\n",
      "specificarchitecturemodifications. generallanguagerepresentations.\n",
      "BERT is conceptually simple and empirically We argue that current techniques restrict the\n",
      "powerful. It obtains new state-of-the-art re- power of the pre-trained representations, espe-\n",
      "sults on eleven natural language processing cially for the fine-tuning approaches. The ma-\n",
      "tasks, including pushing the GLUE score to\n",
      "jorlimitationisthatstandardlanguagemodelsare\n",
      "80.5% (7.7% point absolute improvement),\n",
      "unidirectional, and this limits the choice of archi-\n",
      "MultiNLI accuracy to 86.7% (4.6% absolute\n",
      "tectures that can be used during pre-training. For\n",
      "improvement),SQuADv1.1questionanswer-\n",
      "ing Test F1 to 93.2 (1.5 point absolute im- example,inOpenAIGPT,theauthorsusealeft-to-\n",
      "provement) and SQuAD v2.0 Test F1 to 83.1 right architecture, where every token can only at-\n",
      "(5.1pointabsoluteimprovement). tendtoprevioustokensintheself-attentionlayers\n",
      "oftheTransformer(Vaswanietal.,2017). Suchre-\n",
      "1 Introduction\n",
      "strictionsaresub-optimalforsentence-leveltasks,\n",
      "Language model pre-training has been shown to and could be very harmful when applying fine-\n",
      "be effective for improving many natural language tuningbasedapproachestotoken-leveltaskssuch\n",
      "processing tasks (Dai and Le, 2015; Peters et al., asquestionanswering,whereitiscrucialtoincor-\n",
      "2018a; Radford et al., 2018; Howard and Ruder, poratecontextfrombothdirections.\n",
      "2018). Theseincludesentence-leveltaskssuchas In this paper, we improve the fine-tuning based\n",
      "natural language inference (Bowman et al., 2015; approaches by proposing BERT: Bidirectional\n",
      "Williams et al., 2018) and paraphrasing (Dolan Encoder Representations from Transformers.\n",
      "and Brockett, 2005), which aim to predict the re- BERT alleviates the previously mentioned unidi-\n",
      "lationships between sentences by analyzing them rectionality constraint by using a “masked lan-\n",
      "holistically, as well as token-level tasks such as guage model” (MLM) pre-training objective, in-\n",
      "namedentityrecognitionandquestionanswering, spired by the Cloze task (Taylor, 1953). The\n",
      "wheremodelsarerequiredtoproducefine-grained maskedlanguagemodelrandomlymaskssomeof\n",
      "output at the token level (Tjong Kim Sang and the tokens from the input, and the objective is to\n",
      "DeMeulder,2003;Rajpurkaretal.,2016). predict the original vocabulary id of the masked\n",
      "9102\n",
      "yaM\n",
      "42\n",
      "]LC.sc[\n",
      "2v50840.0181:viXra\n"
     ]
    }
   ],
   "source": [
    "path = \"D:/AA_develop/parsing/2024/Manual/BERT.pdf\"\n",
    "# path = \"D:/AA_develop/parsing/2024/POS/FWG.pdf\"\n",
    "with pdfplumber.open(path) as pdf:\n",
    "    page = pdf.pages[0]\n",
    "    print(page)\n",
    "    texts = page.extract_text(layout=False)\n",
    "    print(texts)"
   ]
  },
  {
   "cell_type": "code",
   "execution_count": 74,
   "metadata": {},
   "outputs": [
    {
     "name": "stdout",
     "output_type": "stream",
     "text": [
      "Left Column:\n",
      " BERT: Pre-training of Deep\n",
      "Language U\n",
      "JacobDevlin Ming-WeiChang\n",
      "GoogleA\n",
      "{jacobdevlin,mingweichang,\n",
      "Abstract\n",
      "We introduce a new language representa-\n",
      "tion model called BERT, which stands for\n",
      "Bidirectional Encoder Representations from\n",
      "Transformers. Unlike recent language repre-\n",
      "sentation models (Peters et al., 2018a; Rad-\n",
      "ford et al., 2018), BERT is designed to pre-\n",
      "train deep bidirectional representations from\n",
      "unlabeledtextbyjointlyconditioningonboth\n",
      "left and right context in all layers. As a re-\n",
      "sult,thepre-trainedBERTmodelcanbefine-\n",
      "tuned with just one additional output layer\n",
      "to create state-of-the-art models for a wide\n",
      "rangeoftasks,suchasquestionansweringand\n",
      "language inference, without substantial task-\n",
      "specificarchitecturemodifications.\n",
      "BERT is conceptually simple and empirically\n",
      "powerful. It obtains new state-of-the-art re-\n",
      "sults on eleven natural language processing\n",
      "tasks, including pushing the GLUE score to\n",
      "80.5% (7.7% point absolute improvement),\n",
      "MultiNLI accuracy to 86.7% (4.6% absolute\n",
      "improvement),SQuADv1.1questionanswer-\n",
      "ing Test F1 to 93.2 (1.5 point absolute im-\n",
      "provement) and SQuAD v2.0 Test F1 to 83.1\n",
      "(5.1pointabsoluteimprovement).\n",
      "1 Introduction\n",
      "Language model pre-training has been shown to\n",
      "be effective for improving many natural language\n",
      "processing tasks (Dai and Le, 2015; Peters et al.,\n",
      "2018a; Radford et al., 2018; Howard and Ruder,\n",
      "2018). Theseincludesentence-leveltaskssuchas\n",
      "natural language inference (Bowman et al., 2015;\n",
      "Williams et al., 2018) and paraphrasing (Dolan\n",
      "and Brockett, 2005), which aim to predict the re-\n",
      "lationships between sentences by analyzing them\n",
      "holistically, as well as token-level tasks such as\n",
      "namedentityrecognitionandquestionanswering,\n",
      "wheremodelsarerequiredtoproducefine-grained\n",
      "output at the token level (Tjong Kim Sang and\n",
      "DeMeulder,2003;Rajpurkaretal.,2016).\n",
      "9102\n",
      "yaM\n",
      "42\n",
      "]LC.sc[\n",
      "2v50840.0181:viXra\n",
      "\n",
      "Right Column:\n",
      " idirectional Transformers for\n",
      "derstanding\n",
      "KentonLee KristinaToutanova\n",
      "Language\n",
      "entonl,kristout}@google.com\n",
      "There are two existing strategies for apply-\n",
      "ingpre-trainedlanguage representations todown-\n",
      "stream tasks: feature-based and fine-tuning. The\n",
      "feature-based approach, such as ELMo (Peters\n",
      "et al., 2018a), uses task-specific architectures that\n",
      "include the pre-trained representations as addi-\n",
      "tional features. The fine-tuning approach, such as\n",
      "the Generative Pre-trained Transformer (OpenAI\n",
      "GPT) (Radford et al., 2018), introduces minimal\n",
      "task-specific parameters, and is trained on the\n",
      "downstream tasks by simply fine-tuning all pre-\n",
      "trainedparameters. Thetwoapproachessharethe\n",
      "sameobjectivefunctionduringpre-training,where\n",
      "they use unidirectional language models to learn\n",
      "generallanguagerepresentations.\n",
      "We argue that current techniques restrict the\n",
      "power of the pre-trained representations, espe-\n",
      "cially for the fine-tuning approaches. The ma-\n",
      "jorlimitationisthatstandardlanguagemodelsare\n",
      "unidirectional, and this limits the choice of archi-\n",
      "tectures that can be used during pre-training. For\n",
      "example,inOpenAIGPT,theauthorsusealeft-to-\n",
      "right architecture, where every token can only at-\n",
      "tendtoprevioustokensintheself-attentionlayers\n",
      "oftheTransformer(Vaswanietal.,2017). Suchre-\n",
      "strictionsaresub-optimalforsentence-leveltasks,\n",
      "and could be very harmful when applying fine-\n",
      "tuningbasedapproachestotoken-leveltaskssuch\n",
      "asquestionanswering,whereitiscrucialtoincor-\n",
      "poratecontextfrombothdirections.\n",
      "In this paper, we improve the fine-tuning based\n",
      "approaches by proposing BERT: Bidirectional\n",
      "Encoder Representations from Transformers.\n",
      "BERT alleviates the previously mentioned unidi-\n",
      "rectionality constraint by using a “masked lan-\n",
      "guage model” (MLM) pre-training objective, in-\n",
      "spired by the Cloze task (Taylor, 1953). The\n",
      "maskedlanguagemodelrandomlymaskssomeof\n",
      "the tokens from the input, and the objective is to\n",
      "predict the original vocabulary id of the masked\n"
     ]
    }
   ],
   "source": [
    "with pdfplumber.open(path) as pdf:\n",
    "    page = pdf.pages[0]\n",
    "    # Get the width of the page to divide it into two columns\n",
    "    width = page.width\n",
    "\n",
    "    # Define the bounding box for the left column (x0, top, x1, bottom)\n",
    "    left_bbox = (0, 0, width / 2, page.height)\n",
    "\n",
    "    # Define the bounding box for the right column\n",
    "    right_bbox = (width / 2, 0, width, page.height)\n",
    "\n",
    "    # Extract text from the left column\n",
    "    left_text = page.within_bbox(left_bbox).extract_text()\n",
    "\n",
    "    # Extract text from the right column\n",
    "    right_text = page.within_bbox(right_bbox).extract_text()\n",
    "\n",
    "    # Print the extracted text\n",
    "    print(\"Left Column:\\n\", left_text)\n",
    "    print(\"\\nRight Column:\\n\", right_text)"
   ]
  },
  {
   "cell_type": "code",
   "execution_count": 67,
   "metadata": {},
   "outputs": [],
   "source": [
    "from collections import Counter\n",
    "\n",
    "def detect_two_column_layout(pdf_path):\n",
    "    with pdfplumber.open(pdf_path) as pdf:\n",
    "        for page_number, page in enumerate(pdf.pages, start=1):\n",
    "            words = page.extract_words()\n",
    "            x_coords = [word['x0'] for word in words]\n",
    "        \n",
    "\n",
    "            # Cluster x-coordinates into groups (bins)\n",
    "            bins = Counter()\n",
    "            for x in x_coords:\n",
    "                # Group coordinates into bins of width 50 (adjustable)\n",
    "                bin_key = int(x // 2) * 2                \n",
    "                bins[bin_key] += 1\n",
    "\n",
    "            # Determine the number of distinct clusters (bins with many words)\n",
    "            cluster_threshold = 50  # This is adjustable\n",
    "            clusters = [count for count in bins.values() if count > cluster_threshold]\n",
    "\n",
    "            if len(clusters) > 1:\n",
    "                print(f\"Page {page_number}: Detected a multi-column layout {len(clusters)}.\")\n",
    "            else:\n",
    "                print(f\"Page {page_number}: Single-column layout detected. {len(clusters)}\")"
   ]
  },
  {
   "cell_type": "code",
   "execution_count": 69,
   "metadata": {},
   "outputs": [
    {
     "name": "stdout",
     "output_type": "stream",
     "text": [
      "Page 1: Single-column layout detected. 0\n",
      "Page 2: Single-column layout detected. 0\n",
      "Page 3: Single-column layout detected. 0\n",
      "Page 4: Single-column layout detected. 0\n",
      "Page 5: Single-column layout detected. 0\n",
      "Page 6: Single-column layout detected. 0\n",
      "Page 7: Single-column layout detected. 0\n",
      "Page 8: Single-column layout detected. 0\n",
      "Page 9: Single-column layout detected. 0\n",
      "Page 10: Single-column layout detected. 0\n",
      "Page 11: Single-column layout detected. 0\n",
      "Page 12: Single-column layout detected. 0\n",
      "Page 13: Single-column layout detected. 0\n",
      "Page 14: Single-column layout detected. 0\n",
      "Page 15: Single-column layout detected. 0\n",
      "Page 16: Single-column layout detected. 0\n"
     ]
    }
   ],
   "source": [
    "path = \"D:/AA_develop/parsing/2024/Manual/BERT.pdf\"\n",
    "# path = \"D:/AA_develop/parsing/2024/POS/FWG.pdf\"\n",
    "\n",
    "detect_two_column_layout(path)"
   ]
  },
  {
   "cell_type": "code",
   "execution_count": 13,
   "metadata": {},
   "outputs": [
    {
     "name": "stdout",
     "output_type": "stream",
     "text": [
      "|-|--------------|--------------|\n"
     ]
    }
   ],
   "source": [
    "import re\n",
    "header = \"||HEATING MEDIUM|COOLING MEDIUM|\"\n",
    "# separator = re.sub(r'[^|]+', lambda m: '-' * 3, header)\n",
    "separator = re.sub(r'[^|]+', lambda m: '-' * len(m.group(0)), header)\n",
    "separator = separator.replace(\"||\", \"|-|\", 1)\n",
    "\n",
    "print(separator)"
   ]
  },
  {
   "cell_type": "code",
   "execution_count": 9,
   "metadata": {},
   "outputs": [
    {
     "ename": "TypeError",
     "evalue": "'function' object is not iterable",
     "output_type": "error",
     "traceback": [
      "\u001b[1;31m---------------------------------------------------------------------------\u001b[0m",
      "\u001b[1;31mTypeError\u001b[0m                                 Traceback (most recent call last)",
      "Cell \u001b[1;32mIn[9], line 1\u001b[0m\n\u001b[1;32m----> 1\u001b[0m \u001b[38;5;28;01mfor\u001b[39;00m i \u001b[38;5;129;01min\u001b[39;00m \u001b[38;5;28;01mlambda\u001b[39;00m m: \u001b[38;5;124m'\u001b[39m\u001b[38;5;124m-\u001b[39m\u001b[38;5;124m'\u001b[39m \u001b[38;5;241m*\u001b[39m \u001b[38;5;28mlen\u001b[39m(m\u001b[38;5;241m.\u001b[39mgroup(\u001b[38;5;241m0\u001b[39m)):\n\u001b[0;32m      2\u001b[0m     \u001b[38;5;28mprint\u001b[39m(i)\n\u001b[0;32m      3\u001b[0m     \u001b[38;5;28;01mbreak\u001b[39;00m\n",
      "\u001b[1;31mTypeError\u001b[0m: 'function' object is not iterable"
     ]
    }
   ],
   "source": [
    "for i in lambda m: '-' * len(m.group(0)):\n",
    "    print(i)\n",
    "    break"
   ]
  },
  {
   "cell_type": "code",
   "execution_count": null,
   "metadata": {},
   "outputs": [],
   "source": []
  }
 ],
 "metadata": {
  "kernelspec": {
   "display_name": "myenv_310",
   "language": "python",
   "name": "python3"
  },
  "language_info": {
   "codemirror_mode": {
    "name": "ipython",
    "version": 3
   },
   "file_extension": ".py",
   "mimetype": "text/x-python",
   "name": "python",
   "nbconvert_exporter": "python",
   "pygments_lexer": "ipython3",
   "version": "3.10.11"
  }
 },
 "nbformat": 4,
 "nbformat_minor": 2
}
