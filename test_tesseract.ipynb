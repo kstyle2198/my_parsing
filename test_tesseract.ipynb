{
 "cells": [
  {
   "cell_type": "code",
   "execution_count": 27,
   "metadata": {},
   "outputs": [],
   "source": [
    "from pdf2image import convert_from_path\n",
    "import cv2\n",
    "import numpy as np\n",
    "import matplotlib.pyplot as plt\n",
    "import pandas as pd\n",
    "from pprint import pprint\n",
    "import pytesseract\n",
    "import os\n",
    "from tqdm import tqdm"
   ]
  },
  {
   "cell_type": "code",
   "execution_count": 17,
   "metadata": {},
   "outputs": [],
   "source": [
    "img_path = \"D:/AA_develop/parsing/test_area_img/ROI_4.png\"\n",
    "image = cv2.imread(img_path)\n",
    "# 새로운 크기를 지정합니다.\n",
    "new_width = int(image.shape[1] * 1)\n",
    "new_height = int(image.shape[0] * 1)\n",
    "new_size = (new_width, new_height)\n",
    "image = cv2.resize(image, new_size)\n",
    "image = cv2.cvtColor(image, cv2.COLOR_BGR2GRAY)\n",
    "sharpening_mask1 = np.array([[-1, -1, -1], [-1, 10, -1], [-1, -1, -1]])\n",
    "image = cv2.filter2D(image, -1, sharpening_mask1)"
   ]
  },
  {
   "cell_type": "code",
   "execution_count": 18,
   "metadata": {},
   "outputs": [
    {
     "name": "stdout",
     "output_type": "stream",
     "text": [
      "'CROSS BAR 자재 POR 발행(608 NO. MXUR)  '\n"
     ]
    }
   ],
   "source": [
    "myconfig = r\"--psm 3 --oem 3\"\n",
    "texts = pytesseract.image_to_string(image=image, lang=\"kor+eng\", config=myconfig)\n",
    "texts = texts.replace(\"\\n\", \" \")\n",
    "pprint(texts)"
   ]
  },
  {
   "cell_type": "code",
   "execution_count": 11,
   "metadata": {},
   "outputs": [],
   "source": [
    "# cv2.imshow('image', image)\n",
    "# cv2.waitKey(0)\n",
    "# cv2.destroyAllWindows()"
   ]
  },
  {
   "cell_type": "code",
   "execution_count": 30,
   "metadata": {},
   "outputs": [],
   "source": [
    "def img_preprocess(path):\n",
    "    image = cv2.imread(path)\n",
    "    new_width = int(image.shape[1] * 1)\n",
    "    new_height = int(image.shape[0] * 1)\n",
    "    new_size = (new_width, new_height)\n",
    "    image = cv2.resize(image, new_size)\n",
    "    image = cv2.cvtColor(image, cv2.COLOR_BGR2GRAY)\n",
    "    sharpening_mask1 = np.array([[-1, -1, -1], [-1, 10, -1], [-1, -1, -1]])\n",
    "    image = cv2.filter2D(image, -1, sharpening_mask1)\n",
    "    return image\n",
    "\n",
    "def get_texts(image):\n",
    "    pytesseract.pytesseract.tesseract_cmd = r\"C:/Program Files/Tesseract-OCR/tesseract.exe\"\n",
    "    myconfig = r\"--psm 3 --oem 3\"\n",
    "    texts = pytesseract.image_to_string(image=image, lang=\"kor+eng\", config=myconfig)\n",
    "    texts = texts.replace(\"\\n\", \" \")\n",
    "    return texts"
   ]
  },
  {
   "cell_type": "code",
   "execution_count": 31,
   "metadata": {},
   "outputs": [
    {
     "name": "stdout",
     "output_type": "stream",
     "text": [
      "d:\\AA_develop\\parsing\\test_area_img\n",
      "['ROI_0.png', 'ROI_1.png', 'ROI_2.png', 'ROI_3.png', 'ROI_4.png', 'ROI_5.png', 'ROI_6.png', 'ROI_7.png']\n"
     ]
    },
    {
     "data": {
      "text/plain": [
       "['d:\\\\AA_develop\\\\parsing\\\\test_area_img\\\\ROI_0.png',\n",
       " 'd:\\\\AA_develop\\\\parsing\\\\test_area_img\\\\ROI_1.png',\n",
       " 'd:\\\\AA_develop\\\\parsing\\\\test_area_img\\\\ROI_2.png',\n",
       " 'd:\\\\AA_develop\\\\parsing\\\\test_area_img\\\\ROI_3.png',\n",
       " 'd:\\\\AA_develop\\\\parsing\\\\test_area_img\\\\ROI_4.png',\n",
       " 'd:\\\\AA_develop\\\\parsing\\\\test_area_img\\\\ROI_5.png',\n",
       " 'd:\\\\AA_develop\\\\parsing\\\\test_area_img\\\\ROI_6.png',\n",
       " 'd:\\\\AA_develop\\\\parsing\\\\test_area_img\\\\ROI_7.png']"
      ]
     },
     "execution_count": 31,
     "metadata": {},
     "output_type": "execute_result"
    }
   ],
   "source": [
    "file_path = os.path.join(os.getcwd(), \"test_area_img\")\n",
    "print(file_path)\n",
    "file_list = os.listdir(file_path)\n",
    "print(file_list)\n",
    "full_paths = [os.path.join(file_path, file) for file in file_list]\n",
    "full_paths"
   ]
  },
  {
   "cell_type": "code",
   "execution_count": 32,
   "metadata": {},
   "outputs": [
    {
     "name": "stderr",
     "output_type": "stream",
     "text": [
      "100%|██████████| 8/8 [00:03<00:00,  2.50it/s]\n"
     ]
    }
   ],
   "source": [
    "results =[]\n",
    "for path in tqdm(full_paths):\n",
    "    img = img_preprocess(path)\n",
    "    texts = get_texts(img)\n",
    "    results.append(texts)"
   ]
  },
  {
   "cell_type": "code",
   "execution_count": 33,
   "metadata": {},
   "outputs": [
    {
     "data": {
      "text/plain": [
       "['',\n",
       " '+ 개정도에 포함된 모든 철거 pc\\'se \\'영여재 Pipe Pe\\'s List] 기입된 세부정보와 함께 의장생산부에 반납 할 것.  * 의장품 낙하방지롤 위해 \"IVE 가,고박 작업표준 (HHIS-cw-622-628)S  할 > 고소작업 시, 필히 안전 장구류 착용 및 작업공간 안전 상대 Hol 후 작엽할 것.  ',\n",
       " '매니저  oe \\\\ 0  과  선 : 의장2부 정  호선  3224:  매니저  oo 마 Ko cm tt  10 at  a  3:  나:  3225호선 :  ',\n",
       " '2) 개정작업 현장 담당 관리자 ',\n",
       " 'CROSS BAR 자재 POR 발행(608 NO. MXUR)  ',\n",
       " '개정관련 소요자재 및 현장 작업자/인수자 정보 1) 자제정보 및 제작/입고일정  ',\n",
       " '3222-3225 A315 DK 5000『6#내 CROSS BAR 설치  ',\n",
       " '41200P52A104 |AME OF DRAWING  ']"
      ]
     },
     "execution_count": 33,
     "metadata": {},
     "output_type": "execute_result"
    }
   ],
   "source": [
    "results"
   ]
  },
  {
   "cell_type": "code",
   "execution_count": null,
   "metadata": {},
   "outputs": [],
   "source": []
  },
  {
   "cell_type": "code",
   "execution_count": null,
   "metadata": {},
   "outputs": [],
   "source": []
  }
 ],
 "metadata": {
  "kernelspec": {
   "display_name": "myenv_310",
   "language": "python",
   "name": "python3"
  },
  "language_info": {
   "codemirror_mode": {
    "name": "ipython",
    "version": 3
   },
   "file_extension": ".py",
   "mimetype": "text/x-python",
   "name": "python",
   "nbconvert_exporter": "python",
   "pygments_lexer": "ipython3",
   "version": "3.10.11"
  }
 },
 "nbformat": 4,
 "nbformat_minor": 2
}
